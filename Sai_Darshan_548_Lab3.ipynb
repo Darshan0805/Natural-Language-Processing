{
  "nbformat": 4,
  "nbformat_minor": 0,
  "metadata": {
    "colab": {
      "provenance": [],
      "authorship_tag": "ABX9TyP8swmkn4G302O6/PSOxfWL",
      "include_colab_link": true
    },
    "kernelspec": {
      "name": "python3",
      "display_name": "Python 3"
    },
    "language_info": {
      "name": "python"
    }
  },
  "cells": [
    {
      "cell_type": "markdown",
      "metadata": {
        "id": "view-in-github",
        "colab_type": "text"
      },
      "source": [
        "<a href=\"https://colab.research.google.com/github/Darshan0805/Natural-Language-Processing/blob/main/Sai_Darshan_548_Lab3.ipynb\" target=\"_parent\"><img src=\"https://colab.research.google.com/assets/colab-badge.svg\" alt=\"Open In Colab\"/></a>"
      ]
    },
    {
      "cell_type": "code",
      "source": [
        "pip install indic-nlp-library"
      ],
      "metadata": {
        "colab": {
          "base_uri": "https://localhost:8080/"
        },
        "id": "gQmOCNrzNIVL",
        "outputId": "8caf1a6e-7773-490a-9dfd-2f6e4d296e47"
      },
      "execution_count": 2,
      "outputs": [
        {
          "output_type": "stream",
          "name": "stdout",
          "text": [
            "Collecting indic-nlp-library\n",
            "  Downloading indic_nlp_library-0.92-py3-none-any.whl (40 kB)\n",
            "\u001b[2K     \u001b[90m━━━━━━━━━━━━━━━━━━━━━━━━━━━━━━━━━━━━━━━━\u001b[0m \u001b[32m40.3/40.3 kB\u001b[0m \u001b[31m787.3 kB/s\u001b[0m eta \u001b[36m0:00:00\u001b[0m\n",
            "\u001b[?25hCollecting sphinx-argparse (from indic-nlp-library)\n",
            "  Downloading sphinx_argparse-0.4.0-py3-none-any.whl (12 kB)\n",
            "Collecting sphinx-rtd-theme (from indic-nlp-library)\n",
            "  Downloading sphinx_rtd_theme-2.0.0-py2.py3-none-any.whl (2.8 MB)\n",
            "\u001b[2K     \u001b[90m━━━━━━━━━━━━━━━━━━━━━━━━━━━━━━━━━━━━━━━━\u001b[0m \u001b[32m2.8/2.8 MB\u001b[0m \u001b[31m24.2 MB/s\u001b[0m eta \u001b[36m0:00:00\u001b[0m\n",
            "\u001b[?25hCollecting morfessor (from indic-nlp-library)\n",
            "  Downloading Morfessor-2.0.6-py3-none-any.whl (35 kB)\n",
            "Requirement already satisfied: pandas in /usr/local/lib/python3.10/dist-packages (from indic-nlp-library) (1.5.3)\n",
            "Requirement already satisfied: numpy in /usr/local/lib/python3.10/dist-packages (from indic-nlp-library) (1.25.2)\n",
            "Requirement already satisfied: python-dateutil>=2.8.1 in /usr/local/lib/python3.10/dist-packages (from pandas->indic-nlp-library) (2.8.2)\n",
            "Requirement already satisfied: pytz>=2020.1 in /usr/local/lib/python3.10/dist-packages (from pandas->indic-nlp-library) (2023.4)\n",
            "Requirement already satisfied: sphinx>=1.2.0 in /usr/local/lib/python3.10/dist-packages (from sphinx-argparse->indic-nlp-library) (5.0.2)\n",
            "Requirement already satisfied: docutils<0.21 in /usr/local/lib/python3.10/dist-packages (from sphinx-rtd-theme->indic-nlp-library) (0.18.1)\n",
            "Collecting sphinxcontrib-jquery<5,>=4 (from sphinx-rtd-theme->indic-nlp-library)\n",
            "  Downloading sphinxcontrib_jquery-4.1-py2.py3-none-any.whl (121 kB)\n",
            "\u001b[2K     \u001b[90m━━━━━━━━━━━━━━━━━━━━━━━━━━━━━━━━━━━━━━━━\u001b[0m \u001b[32m121.1/121.1 kB\u001b[0m \u001b[31m11.9 MB/s\u001b[0m eta \u001b[36m0:00:00\u001b[0m\n",
            "\u001b[?25hRequirement already satisfied: six>=1.5 in /usr/local/lib/python3.10/dist-packages (from python-dateutil>=2.8.1->pandas->indic-nlp-library) (1.16.0)\n",
            "Requirement already satisfied: sphinxcontrib-applehelp in /usr/local/lib/python3.10/dist-packages (from sphinx>=1.2.0->sphinx-argparse->indic-nlp-library) (1.0.8)\n",
            "Requirement already satisfied: sphinxcontrib-devhelp in /usr/local/lib/python3.10/dist-packages (from sphinx>=1.2.0->sphinx-argparse->indic-nlp-library) (1.0.6)\n",
            "Requirement already satisfied: sphinxcontrib-jsmath in /usr/local/lib/python3.10/dist-packages (from sphinx>=1.2.0->sphinx-argparse->indic-nlp-library) (1.0.1)\n",
            "Requirement already satisfied: sphinxcontrib-htmlhelp>=2.0.0 in /usr/local/lib/python3.10/dist-packages (from sphinx>=1.2.0->sphinx-argparse->indic-nlp-library) (2.0.5)\n",
            "Requirement already satisfied: sphinxcontrib-serializinghtml>=1.1.5 in /usr/local/lib/python3.10/dist-packages (from sphinx>=1.2.0->sphinx-argparse->indic-nlp-library) (1.1.10)\n",
            "Requirement already satisfied: sphinxcontrib-qthelp in /usr/local/lib/python3.10/dist-packages (from sphinx>=1.2.0->sphinx-argparse->indic-nlp-library) (1.0.7)\n",
            "Requirement already satisfied: Jinja2>=2.3 in /usr/local/lib/python3.10/dist-packages (from sphinx>=1.2.0->sphinx-argparse->indic-nlp-library) (3.1.3)\n",
            "Requirement already satisfied: Pygments>=2.0 in /usr/local/lib/python3.10/dist-packages (from sphinx>=1.2.0->sphinx-argparse->indic-nlp-library) (2.16.1)\n",
            "Requirement already satisfied: snowballstemmer>=1.1 in /usr/local/lib/python3.10/dist-packages (from sphinx>=1.2.0->sphinx-argparse->indic-nlp-library) (2.2.0)\n",
            "Requirement already satisfied: babel>=1.3 in /usr/local/lib/python3.10/dist-packages (from sphinx>=1.2.0->sphinx-argparse->indic-nlp-library) (2.14.0)\n",
            "Requirement already satisfied: alabaster<0.8,>=0.7 in /usr/local/lib/python3.10/dist-packages (from sphinx>=1.2.0->sphinx-argparse->indic-nlp-library) (0.7.16)\n",
            "Requirement already satisfied: imagesize in /usr/local/lib/python3.10/dist-packages (from sphinx>=1.2.0->sphinx-argparse->indic-nlp-library) (1.4.1)\n",
            "Requirement already satisfied: requests>=2.5.0 in /usr/local/lib/python3.10/dist-packages (from sphinx>=1.2.0->sphinx-argparse->indic-nlp-library) (2.31.0)\n",
            "Requirement already satisfied: packaging in /usr/local/lib/python3.10/dist-packages (from sphinx>=1.2.0->sphinx-argparse->indic-nlp-library) (23.2)\n",
            "Requirement already satisfied: MarkupSafe>=2.0 in /usr/local/lib/python3.10/dist-packages (from Jinja2>=2.3->sphinx>=1.2.0->sphinx-argparse->indic-nlp-library) (2.1.5)\n",
            "Requirement already satisfied: charset-normalizer<4,>=2 in /usr/local/lib/python3.10/dist-packages (from requests>=2.5.0->sphinx>=1.2.0->sphinx-argparse->indic-nlp-library) (3.3.2)\n",
            "Requirement already satisfied: idna<4,>=2.5 in /usr/local/lib/python3.10/dist-packages (from requests>=2.5.0->sphinx>=1.2.0->sphinx-argparse->indic-nlp-library) (3.6)\n",
            "Requirement already satisfied: urllib3<3,>=1.21.1 in /usr/local/lib/python3.10/dist-packages (from requests>=2.5.0->sphinx>=1.2.0->sphinx-argparse->indic-nlp-library) (2.0.7)\n",
            "Requirement already satisfied: certifi>=2017.4.17 in /usr/local/lib/python3.10/dist-packages (from requests>=2.5.0->sphinx>=1.2.0->sphinx-argparse->indic-nlp-library) (2024.2.2)\n",
            "Installing collected packages: morfessor, sphinxcontrib-jquery, sphinx-argparse, sphinx-rtd-theme, indic-nlp-library\n",
            "Successfully installed indic-nlp-library-0.92 morfessor-2.0.6 sphinx-argparse-0.4.0 sphinx-rtd-theme-2.0.0 sphinxcontrib-jquery-4.1\n"
          ]
        }
      ]
    },
    {
      "cell_type": "code",
      "source": [
        "pip install jieba"
      ],
      "metadata": {
        "colab": {
          "base_uri": "https://localhost:8080/"
        },
        "id": "t2IqHHKYb3Rl",
        "outputId": "c5cb2071-89ea-4960-a5b8-2fc3ae90a6a3"
      },
      "execution_count": null,
      "outputs": [
        {
          "output_type": "stream",
          "name": "stdout",
          "text": [
            "Requirement already satisfied: jieba in /usr/local/lib/python3.10/dist-packages (0.42.1)\n"
          ]
        }
      ]
    },
    {
      "cell_type": "code",
      "source": [
        "import re\n",
        "\n",
        "class KannadaTokenizer:\n",
        "    def __init__(self, include_all=False):\n",
        "        swara = '[\\u0c85-\\u0c94\\u0ce0\\u0ce1]'\n",
        "        vyanjana = '[\\u0c95-\\u0cb9\\u0cde]'\n",
        "        halant = '\\u0ce0'\n",
        "        vowel_signs = '[\\u0cbe-\\u0ccc]'\n",
        "        anuswara = '\\u0c82'\n",
        "        visarga = '\\u0c83'\n",
        "        self.include_all = include_all\n",
        "        self.expression = re.compile(\n",
        "            f'(?:({swara})|((?:{vyanjana}{halant})*)({vyanjana})(?:({vowel_signs})|({halant}))?)({anuswara}|{visarga})?',\n",
        "            re.UNICODE)\n",
        "\n",
        "    def tokenize(self, string):\n",
        "        if not isinstance(string, str):\n",
        "            raise ValueError(\"Input must be a string\")\n",
        "\n",
        "        tokens = []\n",
        "        for match in self.expression.finditer(string):\n",
        "            if match.group(1):\n",
        "                tokens.append(match.group(1))\n",
        "            if match.group(2):\n",
        "                tokens.extend(list(match.group(2)))\n",
        "            if match.group(3):\n",
        "                tokens.append(match.group(3))\n",
        "            if match.group(4):\n",
        "                tokens.append(match.group(4))\n",
        "            if match.group(5):\n",
        "                tokens.append(match.group(5))\n",
        "\n",
        "        return tokens\n",
        "\n",
        "tokenizer = KannadaTokenizer()\n",
        "kannada_text = \"ನಿಶಾ ಮ್ಯಾಮ್ ಕ್ರೈಸ್ತ್ ವಿದ್ಯಾಪೀಠದಲ್ಲಿ ಪ್ರೊಫೆಸರ್ ಆಗಿದ್ದಾರೆ ಮತ್ತು ಮ್ಯಾಮ್ ವಿದ್ಯಾರ್ಥಿಗಳಿಗಾಗಿ ಎನ್ನೆಲ್ಪಿ ಹೊಂದಿಕೊಳ್ಳುತ್ತಾರೆ.\"\n",
        "tokens = tokenizer.tokenize(kannada_text)\n",
        "print(tokens)\n"
      ],
      "metadata": {
        "colab": {
          "base_uri": "https://localhost:8080/"
        },
        "id": "yp6LlS1FO3iG",
        "outputId": "44bd95d2-ac21-4adc-df36-faaac8084e17"
      },
      "execution_count": 7,
      "outputs": [
        {
          "output_type": "stream",
          "name": "stdout",
          "text": [
            "['ನ', 'ಿ', 'ಶ', 'ಾ', 'ಮ', '್', 'ಯ', 'ಾ', 'ಮ', '್', 'ಕ', '್', 'ರ', 'ೈ', 'ಸ', '್', 'ತ', '್', 'ವ', 'ಿ', 'ದ', '್', 'ಯ', 'ಾ', 'ಪ', 'ೀ', 'ಠ', 'ದ', 'ಲ', '್', 'ಲ', 'ಿ', 'ಪ', '್', 'ರ', 'ೊ', 'ಫ', 'ೆ', 'ಸ', 'ರ', '್', 'ಆ', 'ಗ', 'ಿ', 'ದ', '್', 'ದ', 'ಾ', 'ರ', 'ೆ', 'ಮ', 'ತ', '್', 'ತ', 'ು', 'ಮ', '್', 'ಯ', 'ಾ', 'ಮ', '್', 'ವ', 'ಿ', 'ದ', '್', 'ಯ', 'ಾ', 'ರ', '್', 'ಥ', 'ಿ', 'ಗ', 'ಳ', 'ಿ', 'ಗ', 'ಾ', 'ಗ', 'ಿ', 'ಎ', 'ನ', '್', 'ನ', 'ೆ', 'ಲ', '್', 'ಪ', 'ಿ', 'ಹ', 'ೊ', 'ದ', 'ಿ', 'ಕ', 'ೊ', 'ಳ', '್', 'ಳ', 'ು', 'ತ', '್', 'ತ', 'ಾ', 'ರ', 'ೆ']\n"
          ]
        }
      ]
    },
    {
      "cell_type": "code",
      "source": [
        "from indicnlp.tokenize import indic_tokenize\n",
        "import jieba\n",
        "\n",
        "def tokenize(text, language):\n",
        "    if language == 'kannada':\n",
        "        tokens = indic_tokenize.trivial_tokenize(text, lang='kn')\n",
        "    elif language == 'tamil':\n",
        "        tokens = indic_tokenize.trivial_tokenize(text, lang='ta')\n",
        "    elif language == 'chinese':\n",
        "        tokens = jieba.lcut(text)\n",
        "    else:\n",
        "        tokens = []\n",
        "    return tokens\n",
        "\n",
        "kannada_text = \"ನಿಶಾ ಮ್ಯಾಮ್ ಕ್ರೈಸ್ತ್ ವಿದ್ಯಾಪೀಠದಲ್ಲಿ ಪ್ರೊಫೆಸರ್ ಆಗಿದ್ದಾರೆ ಮತ್ತು ಮ್ಯಾಮ್ ವಿದ್ಯಾರ್ಥಿಗಳಿಗಾಗಿ ಎನ್ಎಲ್‌ಪಿ ಹೊಂದಿಕೊಳ್ಳುತ್ತಾರೆ.\"\n",
        "tamil_text = \"நிஷா மேம் கிறிஸ்டு பல்கலைக்கழகத்தில் ஒரு ஆசிரியர் ஆகி உள்ளார் மற்றும் மேம் மாணவர்களுக்கு NLP ஐ கையாளுகிறார்.\"\n",
        "chinese_text = \"尼莎老师是基督教大学的一位教授，负责为学生们处理自然语言处理。\"\n",
        "\n",
        "# Tokenize text in Kannada\n",
        "kannada_tokens = tokenize(kannada_text, 'kannada')\n",
        "print(\"Kannada tokens:\", kannada_tokens)\n",
        "\n",
        "# Tokenize text in Tamil\n",
        "tamil_tokens = tokenize(tamil_text, 'tamil')\n",
        "print(\"Tamil tokens:\", tamil_tokens)\n",
        "\n",
        "# Tokenize text in Chinese\n",
        "chinese_tokens = tokenize(chinese_text, 'chinese')\n",
        "print(\"Chinese tokens:\", chinese_tokens)"
      ],
      "metadata": {
        "colab": {
          "base_uri": "https://localhost:8080/"
        },
        "id": "Dh6Uoawaa9ID",
        "outputId": "eaa298ff-11c8-44f6-a383-9f3eb1b6a2cc"
      },
      "execution_count": 6,
      "outputs": [
        {
          "output_type": "stream",
          "name": "stderr",
          "text": [
            "Building prefix dict from the default dictionary ...\n",
            "DEBUG:jieba:Building prefix dict from the default dictionary ...\n"
          ]
        },
        {
          "output_type": "stream",
          "name": "stdout",
          "text": [
            "Kannada tokens: ['ನಿಶಾ', 'ಮ್ಯಾಮ್', 'ಕ್ರೈಸ್ತ್', 'ವಿದ್ಯಾಪೀಠದಲ್ಲಿ', 'ಪ್ರೊಫೆಸರ್', 'ಆಗಿದ್ದಾರೆ', 'ಮತ್ತು', 'ಮ್ಯಾಮ್', 'ವಿದ್ಯಾರ್ಥಿಗಳಿಗಾಗಿ', 'ಎನ್ಎಲ್\\u200cಪಿ', 'ಹೊಂದಿಕೊಳ್ಳುತ್ತಾರೆ', '.']\n",
            "Tamil tokens: ['நிஷா', 'மேம்', 'கிறிஸ்டு', 'பல்கலைக்கழகத்தில்', 'ஒரு', 'ஆசிரியர்', 'ஆகி', 'உள்ளார்', 'மற்றும்', 'மேம்', 'மாணவர்களுக்கு', 'NLP', 'ஐ', 'கையாளுகிறார்', '.']\n"
          ]
        },
        {
          "output_type": "stream",
          "name": "stderr",
          "text": [
            "Dumping model to file cache /tmp/jieba.cache\n",
            "DEBUG:jieba:Dumping model to file cache /tmp/jieba.cache\n",
            "Loading model cost 1.047 seconds.\n",
            "DEBUG:jieba:Loading model cost 1.047 seconds.\n",
            "Prefix dict has been built successfully.\n",
            "DEBUG:jieba:Prefix dict has been built successfully.\n"
          ]
        },
        {
          "output_type": "stream",
          "name": "stdout",
          "text": [
            "Chinese tokens: ['尼莎', '老师', '是', '基督教', '大学', '的', '一位', '教授', '，', '负责', '为', '学生', '们', '处理', '自然语言', '处理', '。']\n"
          ]
        }
      ]
    }
  ]
}