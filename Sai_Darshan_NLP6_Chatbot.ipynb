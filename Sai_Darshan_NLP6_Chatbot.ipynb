{
  "nbformat": 4,
  "nbformat_minor": 0,
  "metadata": {
    "colab": {
      "provenance": [],
      "authorship_tag": "ABX9TyN2YLhlRrcYnliapHfGCj8o",
      "include_colab_link": true
    },
    "kernelspec": {
      "name": "python3",
      "display_name": "Python 3"
    },
    "language_info": {
      "name": "python"
    }
  },
  "cells": [
    {
      "cell_type": "markdown",
      "metadata": {
        "id": "view-in-github",
        "colab_type": "text"
      },
      "source": [
        "<a href=\"https://colab.research.google.com/github/Darshan0805/Natural-Language-Processing/blob/main/Sai_Darshan_NLP6_Chatbot.ipynb\" target=\"_parent\"><img src=\"https://colab.research.google.com/assets/colab-badge.svg\" alt=\"Open In Colab\"/></a>"
      ]
    },
    {
      "cell_type": "code",
      "source": [
        "import random\n",
        "import json\n",
        "import numpy as np\n",
        "import nltk\n",
        "nltk.download('punkt')\n",
        "nltk.download('wordnet')\n",
        "from nltk.stem import WordNetLemmatizer\n",
        "from tensorflow.keras.models import Sequential\n",
        "from tensorflow.keras.layers import Dense, Activation, Dropout, Input\n",
        "from tensorflow.keras.optimizers import SGD"
      ],
      "metadata": {
        "colab": {
          "base_uri": "https://localhost:8080/"
        },
        "id": "rN81XfozhYD7",
        "outputId": "735e6803-d05a-4298-e698-cb31596a4ccc"
      },
      "execution_count": 19,
      "outputs": [
        {
          "output_type": "stream",
          "name": "stderr",
          "text": [
            "[nltk_data] Downloading package punkt to /root/nltk_data...\n",
            "[nltk_data]   Package punkt is already up-to-date!\n",
            "[nltk_data] Downloading package wordnet to /root/nltk_data...\n",
            "[nltk_data]   Package wordnet is already up-to-date!\n"
          ]
        }
      ]
    },
    {
      "cell_type": "markdown",
      "source": [
        "\n",
        "## Loading the intents and preprocessing it"
      ],
      "metadata": {
        "id": "QL17lTsMxB7c"
      }
    },
    {
      "cell_type": "code",
      "source": [
        "lemmatizer=WordNetLemmatizer()\n",
        "intents=json.loads(open('intents.json').read())\n",
        "words=[]\n",
        "classes=[]\n",
        "documents=[]\n",
        "ignore_letters=['?','!',',','.']\n",
        "for intent in intents['intents']:\n",
        "    for pattern in intent['patterns']:\n",
        "        word_list=nltk.word_tokenize(pattern)\n",
        "        words.extend(word_list)\n",
        "        documents.append((word_list,intent['tag']))\n",
        "        if intent['tag'] not in classes:\n",
        "            classes.append(intent['tag'])\n",
        "words=[lemmatizer.lemmatize(word) for word in words if word not in ignore_letters]\n",
        "words=sorted(set(words))"
      ],
      "metadata": {
        "id": "vwRH1SvYhedr"
      },
      "execution_count": 20,
      "outputs": []
    },
    {
      "cell_type": "markdown",
      "source": [
        "## Converting text to numerical form to fit neural network model"
      ],
      "metadata": {
        "id": "If0Ox9RixKS7"
      }
    },
    {
      "cell_type": "code",
      "source": [
        "training=[]\n",
        "output_empty=[0]*len(classes)\n",
        "for document in documents:\n",
        "    bag=[]\n",
        "    word_patterns=document[0]\n",
        "    word_patterns=[lemmatizer.lemmatize(word.lower()) for word in word_patterns]\n",
        "    for word in words:\n",
        "        bag.append(1) if word in word_patterns else bag.append(0)\n",
        "    output_row=list(output_empty)\n",
        "    output_row[classes.index(document[1])]=1\n",
        "    training.append([bag,output_row])\n",
        "random.shuffle(training)\n",
        "training=np.array(training, dtype=object)\n",
        "train_x=list(training[:,0])\n",
        "train_y=list(training[:,1])"
      ],
      "metadata": {
        "id": "BKn9qW4_xGp7"
      },
      "execution_count": 21,
      "outputs": []
    },
    {
      "cell_type": "markdown",
      "source": [
        "## Building and fitting the model"
      ],
      "metadata": {
        "id": "ie2Vjk8pxP01"
      }
    },
    {
      "cell_type": "code",
      "source": [
        "model=Sequential()\n",
        "model.add(Input(shape=(len(train_x[0]),)))\n",
        "model.add(Dense(128,activation='relu'))\n",
        "model.add(Dropout(0.5))\n",
        "model.add(Dense(64,activation='relu'))\n",
        "model.add(Dropout(0.5))\n",
        "model.add(Dense(len(train_y[0]),activation='softmax'))\n",
        "sgd = SGD(learning_rate=0.01, momentum=0.9, nesterov=True)\n",
        "model.compile(loss='categorical_crossentropy',optimizer=sgd,metrics=['accuracy'])\n",
        "model.fit(np.array(train_x),np.array(train_y),epochs=100,batch_size=5, verbose=1)"
      ],
      "metadata": {
        "id": "c9NFQGs8hh1c",
        "colab": {
          "base_uri": "https://localhost:8080/"
        },
        "outputId": "73c2cc6b-af0d-43e9-8572-4bc3bb9529bf"
      },
      "execution_count": 22,
      "outputs": [
        {
          "output_type": "stream",
          "name": "stdout",
          "text": [
            "Epoch 1/100\n",
            "47/47 [==============================] - 1s 2ms/step - loss: 4.4006 - accuracy: 0.0086\n",
            "Epoch 2/100\n",
            "47/47 [==============================] - 0s 2ms/step - loss: 4.2907 - accuracy: 0.0560\n",
            "Epoch 3/100\n",
            "47/47 [==============================] - 0s 3ms/step - loss: 4.1925 - accuracy: 0.0603\n",
            "Epoch 4/100\n",
            "47/47 [==============================] - 0s 2ms/step - loss: 4.1251 - accuracy: 0.0517\n",
            "Epoch 5/100\n",
            "47/47 [==============================] - 0s 2ms/step - loss: 3.9858 - accuracy: 0.0603\n",
            "Epoch 6/100\n",
            "47/47 [==============================] - 0s 3ms/step - loss: 3.8717 - accuracy: 0.0991\n",
            "Epoch 7/100\n",
            "47/47 [==============================] - 0s 2ms/step - loss: 3.7468 - accuracy: 0.0991\n",
            "Epoch 8/100\n",
            "47/47 [==============================] - 0s 3ms/step - loss: 3.5393 - accuracy: 0.1293\n",
            "Epoch 9/100\n",
            "47/47 [==============================] - 0s 3ms/step - loss: 3.4221 - accuracy: 0.1681\n",
            "Epoch 10/100\n",
            "47/47 [==============================] - 0s 2ms/step - loss: 3.3508 - accuracy: 0.1509\n",
            "Epoch 11/100\n",
            "47/47 [==============================] - 0s 2ms/step - loss: 3.1766 - accuracy: 0.2026\n",
            "Epoch 12/100\n",
            "47/47 [==============================] - 0s 2ms/step - loss: 3.0067 - accuracy: 0.2414\n",
            "Epoch 13/100\n",
            "47/47 [==============================] - 0s 2ms/step - loss: 2.8603 - accuracy: 0.2716\n",
            "Epoch 14/100\n",
            "47/47 [==============================] - 0s 2ms/step - loss: 2.8144 - accuracy: 0.2328\n",
            "Epoch 15/100\n",
            "47/47 [==============================] - 0s 2ms/step - loss: 2.6770 - accuracy: 0.2974\n",
            "Epoch 16/100\n",
            "47/47 [==============================] - 0s 2ms/step - loss: 2.5616 - accuracy: 0.3233\n",
            "Epoch 17/100\n",
            "47/47 [==============================] - 0s 2ms/step - loss: 2.4741 - accuracy: 0.3233\n",
            "Epoch 18/100\n",
            "47/47 [==============================] - 0s 2ms/step - loss: 2.2974 - accuracy: 0.3017\n",
            "Epoch 19/100\n",
            "47/47 [==============================] - 0s 2ms/step - loss: 2.2988 - accuracy: 0.4009\n",
            "Epoch 20/100\n",
            "47/47 [==============================] - 0s 2ms/step - loss: 2.1763 - accuracy: 0.4052\n",
            "Epoch 21/100\n",
            "47/47 [==============================] - 0s 2ms/step - loss: 2.0927 - accuracy: 0.4267\n",
            "Epoch 22/100\n",
            "47/47 [==============================] - 0s 2ms/step - loss: 2.0809 - accuracy: 0.3750\n",
            "Epoch 23/100\n",
            "47/47 [==============================] - 0s 2ms/step - loss: 1.9761 - accuracy: 0.4310\n",
            "Epoch 24/100\n",
            "47/47 [==============================] - 0s 2ms/step - loss: 1.9480 - accuracy: 0.4181\n",
            "Epoch 25/100\n",
            "47/47 [==============================] - 0s 2ms/step - loss: 1.8722 - accuracy: 0.4052\n",
            "Epoch 26/100\n",
            "47/47 [==============================] - 0s 2ms/step - loss: 1.8127 - accuracy: 0.4784\n",
            "Epoch 27/100\n",
            "47/47 [==============================] - 0s 2ms/step - loss: 1.6448 - accuracy: 0.5129\n",
            "Epoch 28/100\n",
            "47/47 [==============================] - 0s 2ms/step - loss: 1.7643 - accuracy: 0.4957\n",
            "Epoch 29/100\n",
            "47/47 [==============================] - 0s 2ms/step - loss: 1.6101 - accuracy: 0.5259\n",
            "Epoch 30/100\n",
            "47/47 [==============================] - 0s 2ms/step - loss: 1.5938 - accuracy: 0.5259\n",
            "Epoch 31/100\n",
            "47/47 [==============================] - 0s 2ms/step - loss: 1.5186 - accuracy: 0.5647\n",
            "Epoch 32/100\n",
            "47/47 [==============================] - 0s 2ms/step - loss: 1.4846 - accuracy: 0.5647\n",
            "Epoch 33/100\n",
            "47/47 [==============================] - 0s 3ms/step - loss: 1.3732 - accuracy: 0.6078\n",
            "Epoch 34/100\n",
            "47/47 [==============================] - 0s 2ms/step - loss: 1.4276 - accuracy: 0.5431\n",
            "Epoch 35/100\n",
            "47/47 [==============================] - 0s 2ms/step - loss: 1.2525 - accuracy: 0.6293\n",
            "Epoch 36/100\n",
            "47/47 [==============================] - 0s 3ms/step - loss: 1.2741 - accuracy: 0.6207\n",
            "Epoch 37/100\n",
            "47/47 [==============================] - 0s 2ms/step - loss: 1.3215 - accuracy: 0.5819\n",
            "Epoch 38/100\n",
            "47/47 [==============================] - 0s 3ms/step - loss: 1.3619 - accuracy: 0.5560\n",
            "Epoch 39/100\n",
            "47/47 [==============================] - 0s 2ms/step - loss: 1.2458 - accuracy: 0.6336\n",
            "Epoch 40/100\n",
            "47/47 [==============================] - 0s 2ms/step - loss: 1.2974 - accuracy: 0.6379\n",
            "Epoch 41/100\n",
            "47/47 [==============================] - 0s 2ms/step - loss: 1.2730 - accuracy: 0.6379\n",
            "Epoch 42/100\n",
            "47/47 [==============================] - 0s 2ms/step - loss: 1.1621 - accuracy: 0.6810\n",
            "Epoch 43/100\n",
            "47/47 [==============================] - 0s 2ms/step - loss: 1.0536 - accuracy: 0.7026\n",
            "Epoch 44/100\n",
            "47/47 [==============================] - 0s 3ms/step - loss: 1.0708 - accuracy: 0.6595\n",
            "Epoch 45/100\n",
            "47/47 [==============================] - 0s 3ms/step - loss: 1.0523 - accuracy: 0.6810\n",
            "Epoch 46/100\n",
            "47/47 [==============================] - 0s 3ms/step - loss: 1.1695 - accuracy: 0.6983\n",
            "Epoch 47/100\n",
            "47/47 [==============================] - 0s 3ms/step - loss: 1.0221 - accuracy: 0.6983\n",
            "Epoch 48/100\n",
            "47/47 [==============================] - 0s 3ms/step - loss: 1.1347 - accuracy: 0.6552\n",
            "Epoch 49/100\n",
            "47/47 [==============================] - 0s 3ms/step - loss: 1.0744 - accuracy: 0.6638\n",
            "Epoch 50/100\n",
            "47/47 [==============================] - 0s 3ms/step - loss: 0.9764 - accuracy: 0.7155\n",
            "Epoch 51/100\n",
            "47/47 [==============================] - 0s 3ms/step - loss: 0.9074 - accuracy: 0.7112\n",
            "Epoch 52/100\n",
            "47/47 [==============================] - 0s 3ms/step - loss: 0.8802 - accuracy: 0.7112\n",
            "Epoch 53/100\n",
            "47/47 [==============================] - 0s 3ms/step - loss: 0.9642 - accuracy: 0.6810\n",
            "Epoch 54/100\n",
            "47/47 [==============================] - 0s 3ms/step - loss: 0.8756 - accuracy: 0.7586\n",
            "Epoch 55/100\n",
            "47/47 [==============================] - 0s 3ms/step - loss: 0.8284 - accuracy: 0.7629\n",
            "Epoch 56/100\n",
            "47/47 [==============================] - 0s 3ms/step - loss: 1.0878 - accuracy: 0.6724\n",
            "Epoch 57/100\n",
            "47/47 [==============================] - 0s 3ms/step - loss: 0.9023 - accuracy: 0.7414\n",
            "Epoch 58/100\n",
            "47/47 [==============================] - 0s 3ms/step - loss: 0.8980 - accuracy: 0.7716\n",
            "Epoch 59/100\n",
            "47/47 [==============================] - 0s 4ms/step - loss: 0.8665 - accuracy: 0.7371\n",
            "Epoch 60/100\n",
            "47/47 [==============================] - 0s 4ms/step - loss: 0.8184 - accuracy: 0.7543\n",
            "Epoch 61/100\n",
            "47/47 [==============================] - 0s 3ms/step - loss: 0.7970 - accuracy: 0.7543\n",
            "Epoch 62/100\n",
            "47/47 [==============================] - 0s 3ms/step - loss: 0.7988 - accuracy: 0.7931\n",
            "Epoch 63/100\n",
            "47/47 [==============================] - 0s 3ms/step - loss: 0.8762 - accuracy: 0.7414\n",
            "Epoch 64/100\n",
            "47/47 [==============================] - 0s 3ms/step - loss: 0.8718 - accuracy: 0.7500\n",
            "Epoch 65/100\n",
            "47/47 [==============================] - 0s 2ms/step - loss: 0.7158 - accuracy: 0.7716\n",
            "Epoch 66/100\n",
            "47/47 [==============================] - 0s 2ms/step - loss: 0.9714 - accuracy: 0.7112\n",
            "Epoch 67/100\n",
            "47/47 [==============================] - 0s 2ms/step - loss: 0.8194 - accuracy: 0.7586\n",
            "Epoch 68/100\n",
            "47/47 [==============================] - 0s 2ms/step - loss: 0.8043 - accuracy: 0.7198\n",
            "Epoch 69/100\n",
            "47/47 [==============================] - 0s 2ms/step - loss: 0.7137 - accuracy: 0.8017\n",
            "Epoch 70/100\n",
            "47/47 [==============================] - 0s 4ms/step - loss: 0.8061 - accuracy: 0.7500\n",
            "Epoch 71/100\n",
            "47/47 [==============================] - 0s 3ms/step - loss: 0.6565 - accuracy: 0.7845\n",
            "Epoch 72/100\n",
            "47/47 [==============================] - 0s 2ms/step - loss: 0.7533 - accuracy: 0.7716\n",
            "Epoch 73/100\n",
            "47/47 [==============================] - 0s 2ms/step - loss: 0.7992 - accuracy: 0.7543\n",
            "Epoch 74/100\n",
            "47/47 [==============================] - 0s 3ms/step - loss: 0.7405 - accuracy: 0.7845\n",
            "Epoch 75/100\n",
            "47/47 [==============================] - 0s 2ms/step - loss: 0.7672 - accuracy: 0.7586\n",
            "Epoch 76/100\n",
            "47/47 [==============================] - 0s 2ms/step - loss: 0.7832 - accuracy: 0.7328\n",
            "Epoch 77/100\n",
            "47/47 [==============================] - 0s 2ms/step - loss: 0.6558 - accuracy: 0.8060\n",
            "Epoch 78/100\n",
            "47/47 [==============================] - 0s 3ms/step - loss: 0.7608 - accuracy: 0.7457\n",
            "Epoch 79/100\n",
            "47/47 [==============================] - 0s 2ms/step - loss: 0.7003 - accuracy: 0.7845\n",
            "Epoch 80/100\n",
            "47/47 [==============================] - 0s 3ms/step - loss: 0.6651 - accuracy: 0.8103\n",
            "Epoch 81/100\n",
            "47/47 [==============================] - 0s 2ms/step - loss: 0.5729 - accuracy: 0.8147\n",
            "Epoch 82/100\n",
            "47/47 [==============================] - 0s 3ms/step - loss: 0.6862 - accuracy: 0.7845\n",
            "Epoch 83/100\n",
            "47/47 [==============================] - 0s 3ms/step - loss: 0.7097 - accuracy: 0.7974\n",
            "Epoch 84/100\n",
            "47/47 [==============================] - 0s 2ms/step - loss: 0.7493 - accuracy: 0.7586\n",
            "Epoch 85/100\n",
            "47/47 [==============================] - 0s 2ms/step - loss: 0.6266 - accuracy: 0.7974\n",
            "Epoch 86/100\n",
            "47/47 [==============================] - 0s 2ms/step - loss: 0.6165 - accuracy: 0.7629\n",
            "Epoch 87/100\n",
            "47/47 [==============================] - 0s 2ms/step - loss: 0.5810 - accuracy: 0.8233\n",
            "Epoch 88/100\n",
            "47/47 [==============================] - 0s 2ms/step - loss: 0.5375 - accuracy: 0.8276\n",
            "Epoch 89/100\n",
            "47/47 [==============================] - 0s 2ms/step - loss: 0.6025 - accuracy: 0.8103\n",
            "Epoch 90/100\n",
            "47/47 [==============================] - 0s 2ms/step - loss: 0.6181 - accuracy: 0.7974\n",
            "Epoch 91/100\n",
            "47/47 [==============================] - 0s 2ms/step - loss: 0.5738 - accuracy: 0.8405\n",
            "Epoch 92/100\n",
            "47/47 [==============================] - 0s 2ms/step - loss: 0.7036 - accuracy: 0.7716\n",
            "Epoch 93/100\n",
            "47/47 [==============================] - 0s 2ms/step - loss: 0.5530 - accuracy: 0.8276\n",
            "Epoch 94/100\n",
            "47/47 [==============================] - 0s 2ms/step - loss: 0.7599 - accuracy: 0.7931\n",
            "Epoch 95/100\n",
            "47/47 [==============================] - 0s 2ms/step - loss: 0.7852 - accuracy: 0.8017\n",
            "Epoch 96/100\n",
            "47/47 [==============================] - 0s 2ms/step - loss: 0.6174 - accuracy: 0.8017\n",
            "Epoch 97/100\n",
            "47/47 [==============================] - 0s 3ms/step - loss: 0.4624 - accuracy: 0.8534\n",
            "Epoch 98/100\n",
            "47/47 [==============================] - 0s 2ms/step - loss: 0.5933 - accuracy: 0.8319\n",
            "Epoch 99/100\n",
            "47/47 [==============================] - 0s 2ms/step - loss: 0.6875 - accuracy: 0.7931\n",
            "Epoch 100/100\n",
            "47/47 [==============================] - 0s 2ms/step - loss: 0.6502 - accuracy: 0.7845\n"
          ]
        },
        {
          "output_type": "execute_result",
          "data": {
            "text/plain": [
              "<keras.src.callbacks.History at 0x7d575c71b250>"
            ]
          },
          "metadata": {},
          "execution_count": 22
        }
      ]
    },
    {
      "cell_type": "markdown",
      "source": [
        "## Defining functions to perform various pre-processing tasks, predicting the class and displaying the response#"
      ],
      "metadata": {
        "id": "y1yX1GC6xd79"
      }
    },
    {
      "cell_type": "code",
      "source": [
        "\n",
        "def clean_up_sentence(sentence):\n",
        "    sentence_words=nltk.word_tokenize(sentence)\n",
        "    sentence_words=[lemmatizer.lemmatize(word) for word in sentence_words]\n",
        "    return sentence_words\n",
        "\n",
        "def bag_of_words(sentence):\n",
        "    sentence_words=clean_up_sentence(sentence)\n",
        "    bag=[0]*len(words)\n",
        "    for w in sentence_words:\n",
        "        for i, word in enumerate(words):\n",
        "            if word==w:\n",
        "                bag[i]=1\n",
        "    return np.array(bag)\n",
        "\n",
        "def predict_class(sentence):\n",
        "    bow=bag_of_words(sentence)\n",
        "    res=model.predict(np.array([bow]))[0]\n",
        "    error_threshold=0.25\n",
        "    results=[[i,r] for i,r in enumerate(res) if r>error_threshold]\n",
        "    results.sort(key=lambda x:x[1], reverse=True)\n",
        "    return_list=[]\n",
        "    for r in results:\n",
        "        return_list.append({'intent':classes[r[0]],'probability':str(r[1])})\n",
        "    return return_list\n",
        "\n",
        "def get_response(intents,intents_json):\n",
        "    tag=intents[0]['intent']\n",
        "    list_of_intents=intents_json['intents']\n",
        "    for i in list_of_intents:\n",
        "        if i['tag']==tag:\n",
        "            result=random.choice(i['responses'])\n",
        "            break\n",
        "    return result"
      ],
      "metadata": {
        "id": "9Sy_GUmhh7wx"
      },
      "execution_count": 23,
      "outputs": []
    },
    {
      "cell_type": "code",
      "execution_count": 26,
      "metadata": {
        "id": "UWDy6vbDPf12",
        "colab": {
          "base_uri": "https://localhost:8080/",
          "height": 663
        },
        "outputId": "1d0a30de-0a3e-4daa-c035-003724db0e68"
      },
      "outputs": [
        {
          "output_type": "stream",
          "name": "stdout",
          "text": [
            "Hii\n",
            "1/1 [==============================] - 0s 21ms/step\n",
            "Hello there. Tell me how are you feeling today?\n",
            "Help me\n",
            "1/1 [==============================] - 0s 25ms/step\n",
            "mental health is not a joke.\n",
            "Thank you\n",
            "1/1 [==============================] - 0s 25ms/step\n",
            "Happy to help!\n",
            "Ok Bye\n",
            "1/1 [==============================] - 0s 22ms/step\n",
            "Hi there. How are you feeling today?\n",
            "Good Bye\n",
            "1/1 [==============================] - 0s 19ms/step\n",
            "Hi there. What brings you here today?\n"
          ]
        },
        {
          "output_type": "error",
          "ename": "KeyboardInterrupt",
          "evalue": "Interrupted by user",
          "traceback": [
            "\u001b[0;31m---------------------------------------------------------------------------\u001b[0m",
            "\u001b[0;31mKeyboardInterrupt\u001b[0m                         Traceback (most recent call last)",
            "\u001b[0;32m<ipython-input-26-61f66b53fa9b>\u001b[0m in \u001b[0;36m<cell line: 1>\u001b[0;34m()\u001b[0m\n\u001b[1;32m      1\u001b[0m \u001b[0;32mwhile\u001b[0m \u001b[0;32mTrue\u001b[0m\u001b[0;34m:\u001b[0m\u001b[0;34m\u001b[0m\u001b[0;34m\u001b[0m\u001b[0m\n\u001b[0;32m----> 2\u001b[0;31m     \u001b[0mmessage\u001b[0m\u001b[0;34m=\u001b[0m\u001b[0minput\u001b[0m\u001b[0;34m(\u001b[0m\u001b[0;34m\"\"\u001b[0m\u001b[0;34m)\u001b[0m\u001b[0;34m\u001b[0m\u001b[0;34m\u001b[0m\u001b[0m\n\u001b[0m\u001b[1;32m      3\u001b[0m     \u001b[0mints\u001b[0m\u001b[0;34m=\u001b[0m\u001b[0mpredict_class\u001b[0m\u001b[0;34m(\u001b[0m\u001b[0mmessage\u001b[0m\u001b[0;34m)\u001b[0m\u001b[0;34m\u001b[0m\u001b[0;34m\u001b[0m\u001b[0m\n\u001b[1;32m      4\u001b[0m     \u001b[0mres\u001b[0m\u001b[0;34m=\u001b[0m\u001b[0mget_response\u001b[0m\u001b[0;34m(\u001b[0m\u001b[0mints\u001b[0m\u001b[0;34m,\u001b[0m\u001b[0mintents\u001b[0m\u001b[0;34m)\u001b[0m\u001b[0;34m\u001b[0m\u001b[0;34m\u001b[0m\u001b[0m\n\u001b[1;32m      5\u001b[0m     \u001b[0mprint\u001b[0m\u001b[0;34m(\u001b[0m\u001b[0mres\u001b[0m\u001b[0;34m)\u001b[0m\u001b[0;34m\u001b[0m\u001b[0;34m\u001b[0m\u001b[0m\n",
            "\u001b[0;32m/usr/local/lib/python3.10/dist-packages/ipykernel/kernelbase.py\u001b[0m in \u001b[0;36mraw_input\u001b[0;34m(self, prompt)\u001b[0m\n\u001b[1;32m    849\u001b[0m                 \u001b[0;34m\"raw_input was called, but this frontend does not support input requests.\"\u001b[0m\u001b[0;34m\u001b[0m\u001b[0;34m\u001b[0m\u001b[0m\n\u001b[1;32m    850\u001b[0m             )\n\u001b[0;32m--> 851\u001b[0;31m         return self._input_request(str(prompt),\n\u001b[0m\u001b[1;32m    852\u001b[0m             \u001b[0mself\u001b[0m\u001b[0;34m.\u001b[0m\u001b[0m_parent_ident\u001b[0m\u001b[0;34m,\u001b[0m\u001b[0;34m\u001b[0m\u001b[0;34m\u001b[0m\u001b[0m\n\u001b[1;32m    853\u001b[0m             \u001b[0mself\u001b[0m\u001b[0;34m.\u001b[0m\u001b[0m_parent_header\u001b[0m\u001b[0;34m,\u001b[0m\u001b[0;34m\u001b[0m\u001b[0;34m\u001b[0m\u001b[0m\n",
            "\u001b[0;32m/usr/local/lib/python3.10/dist-packages/ipykernel/kernelbase.py\u001b[0m in \u001b[0;36m_input_request\u001b[0;34m(self, prompt, ident, parent, password)\u001b[0m\n\u001b[1;32m    893\u001b[0m             \u001b[0;32mexcept\u001b[0m \u001b[0mKeyboardInterrupt\u001b[0m\u001b[0;34m:\u001b[0m\u001b[0;34m\u001b[0m\u001b[0;34m\u001b[0m\u001b[0m\n\u001b[1;32m    894\u001b[0m                 \u001b[0;31m# re-raise KeyboardInterrupt, to truncate traceback\u001b[0m\u001b[0;34m\u001b[0m\u001b[0;34m\u001b[0m\u001b[0m\n\u001b[0;32m--> 895\u001b[0;31m                 \u001b[0;32mraise\u001b[0m \u001b[0mKeyboardInterrupt\u001b[0m\u001b[0;34m(\u001b[0m\u001b[0;34m\"Interrupted by user\"\u001b[0m\u001b[0;34m)\u001b[0m \u001b[0;32mfrom\u001b[0m \u001b[0;32mNone\u001b[0m\u001b[0;34m\u001b[0m\u001b[0;34m\u001b[0m\u001b[0m\n\u001b[0m\u001b[1;32m    896\u001b[0m             \u001b[0;32mexcept\u001b[0m \u001b[0mException\u001b[0m \u001b[0;32mas\u001b[0m \u001b[0me\u001b[0m\u001b[0;34m:\u001b[0m\u001b[0;34m\u001b[0m\u001b[0;34m\u001b[0m\u001b[0m\n\u001b[1;32m    897\u001b[0m                 \u001b[0mself\u001b[0m\u001b[0;34m.\u001b[0m\u001b[0mlog\u001b[0m\u001b[0;34m.\u001b[0m\u001b[0mwarning\u001b[0m\u001b[0;34m(\u001b[0m\u001b[0;34m\"Invalid Message:\"\u001b[0m\u001b[0;34m,\u001b[0m \u001b[0mexc_info\u001b[0m\u001b[0;34m=\u001b[0m\u001b[0;32mTrue\u001b[0m\u001b[0;34m)\u001b[0m\u001b[0;34m\u001b[0m\u001b[0;34m\u001b[0m\u001b[0m\n",
            "\u001b[0;31mKeyboardInterrupt\u001b[0m: Interrupted by user"
          ]
        }
      ],
      "source": [
        "while True:\n",
        "    message=input(\"\")\n",
        "    ints=predict_class(message)\n",
        "    res=get_response(ints,intents)\n",
        "    print(res)"
      ]
    }
  ]
}