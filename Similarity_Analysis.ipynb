{
  "cells": [
    {
      "cell_type": "markdown",
      "metadata": {
        "id": "view-in-github",
        "colab_type": "text"
      },
      "source": [
        "<a href=\"https://colab.research.google.com/github/Darshan0805/Natural-Language-Processing/blob/main/Similarity_Analysis.ipynb\" target=\"_parent\"><img src=\"https://colab.research.google.com/assets/colab-badge.svg\" alt=\"Open In Colab\"/></a>"
      ]
    },
    {
      "cell_type": "code",
      "execution_count": null,
      "metadata": {
        "id": "b9DkBYckMfHp",
        "outputId": "b74195a4-7413-45f3-e5af-3ea8a251a08e"
      },
      "outputs": [
        {
          "name": "stdout",
          "output_type": "stream",
          "text": [
            "Similarity:  0.6021853510670764\n"
          ]
        }
      ],
      "source": [
        "import math\n",
        "from collections import Counter\n",
        "\n",
        "def text_to_vector(text):\n",
        "    words = text.split()\n",
        "    return Counter(words)\n",
        "\n",
        "def get_cosine(vec1, vec2):\n",
        "    intersection = set(vec1.keys()) & set(vec2.keys())\n",
        "    numerator = sum([vec1[x] * vec2[x] for x in intersection])\n",
        "\n",
        "    sum1 = sum([vec1[x]**2 for x in vec1.keys()])\n",
        "    sum2 = sum([vec2[x]**2 for x in vec2.keys()])\n",
        "    denominator = math.sqrt(sum1) * math.sqrt(sum2)\n",
        "\n",
        "    if not denominator:\n",
        "        return 0.0\n",
        "    else:\n",
        "        return float(numerator) / denominator\n",
        "\n",
        "def calculate_similarity(text1, text2):\n",
        "    vector1 = text_to_vector(text1)\n",
        "    vector2 = text_to_vector(text2)\n",
        "    cosine_result = get_cosine(vector1, vector2)\n",
        "    return cosine_result\n",
        "\n",
        "para1 = 'Weakness in the financial services and information technology sectors weighed on the Nifty and the Sensex. For the Nifty, support is at 22,400 and resistance at 22,550'\n",
        "para2 = 'The Sensex and the Nifty took a breather on April 1 after a three-day rally, while broader markets outperformed the equity benchmarks. Weakness in financial services and information technology names weighed on the market.'\n",
        "similarity = calculate_similarity(para1, para2)\n",
        "print(\"Similarity: \", similarity)\n"
      ]
    },
    {
      "cell_type": "code",
      "execution_count": null,
      "metadata": {
        "id": "0pRTx3B9MfHs",
        "outputId": "a7b0c0b8-e84e-4863-efae-d159f438100b"
      },
      "outputs": [
        {
          "name": "stdout",
          "output_type": "stream",
          "text": [
            "Similarity:  0.28205128205128205\n"
          ]
        }
      ],
      "source": [
        "def text_to_vector(text):\n",
        "    words = text.split()\n",
        "    return Counter(words)\n",
        "\n",
        "def get_jaccard(vec1, vec2):\n",
        "    intersection = set(vec1.keys()) & set(vec2.keys())\n",
        "    union = set(vec1.keys()) | set(vec2.keys())\n",
        "    jaccard_index = float(len(intersection)) / len(union)\n",
        "    return jaccard_index\n",
        "\n",
        "def calculate_similarity(text1, text2):\n",
        "    vector1 = text_to_vector(text1)\n",
        "    vector2 = text_to_vector(text2)\n",
        "    jaccard_result = get_jaccard(vector1, vector2)\n",
        "    return jaccard_result\n",
        "\n",
        "# Test with your own text\n",
        "para1 = 'Weakness in the financial services and information technology sectors weighed on the Nifty and the Sensex. For the Nifty, support is at 22,400 and resistance at 22,550'\n",
        "para2 = 'The Sensex and the Nifty took a breather on April 1 after a three-day rally, while broader markets outperformed the equity benchmarks. Weakness in financial services and information technology names weighed on the market.'\n",
        "similarity = calculate_similarity(para1, para2)\n",
        "print(\"Similarity: \", similarity)"
      ]
    }
  ],
  "metadata": {
    "kernelspec": {
      "display_name": "base",
      "language": "python",
      "name": "python3"
    },
    "language_info": {
      "codemirror_mode": {
        "name": "ipython",
        "version": 3
      },
      "file_extension": ".py",
      "mimetype": "text/x-python",
      "name": "python",
      "nbconvert_exporter": "python",
      "pygments_lexer": "ipython3",
      "version": "3.11.7"
    },
    "colab": {
      "provenance": [],
      "include_colab_link": true
    }
  },
  "nbformat": 4,
  "nbformat_minor": 0
}