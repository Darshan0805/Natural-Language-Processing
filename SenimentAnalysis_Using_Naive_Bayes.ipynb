{
  "cells": [
    {
      "cell_type": "code",
      "execution_count": 63,
      "metadata": {
        "colab": {
          "base_uri": "https://localhost:8080/"
        },
        "id": "JqfoBKgOMLXl",
        "outputId": "6b6f6297-986d-4876-fb82-1cb2f86a9a0e"
      },
      "outputs": [
        {
          "output_type": "stream",
          "name": "stderr",
          "text": [
            "[nltk_data] Downloading package punkt to /root/nltk_data...\n",
            "[nltk_data]   Package punkt is already up-to-date!\n",
            "[nltk_data] Downloading package stopwords to /root/nltk_data...\n",
            "[nltk_data]   Package stopwords is already up-to-date!\n",
            "[nltk_data] Downloading package vader_lexicon to /root/nltk_data...\n",
            "[nltk_data]   Package vader_lexicon is already up-to-date!\n"
          ]
        }
      ],
      "source": [
        "import numpy as np\n",
        "import pandas as pd\n",
        "import seaborn as sns\n",
        "import matplotlib.pyplot as plt\n",
        "import re\n",
        "import nltk\n",
        "nltk.download('punkt')\n",
        "nltk.download('stopwords')\n",
        "nltk.download('vader_lexicon')\n",
        "from collections import Counter\n",
        "from sklearn.metrics import confusion_matrix\n",
        "from sklearn import metrics\n",
        "from sklearn.model_selection import train_test_split\n",
        "from sklearn.feature_extraction.text import CountVectorizer\n",
        "from sklearn.naive_bayes import MultinomialNB\n",
        "from sklearn.metrics import accuracy_score\n",
        "from nltk.classify import NaiveBayesClassifier\n",
        "from nltk.corpus import names\n",
        "from nltk.sentiment import SentimentAnalyzer, SentimentIntensityAnalyzer\n",
        "from nltk.corpus import stopwords\n",
        "import warnings\n",
        "warnings.filterwarnings(\"ignore\")\n"
      ]
    },
    {
      "cell_type": "code",
      "execution_count": 64,
      "metadata": {
        "colab": {
          "base_uri": "https://localhost:8080/",
          "height": 504
        },
        "id": "v75TV0B8MLXm",
        "outputId": "190468c4-06c7-4feb-e1a4-98f76491fbe2"
      },
      "outputs": [
        {
          "output_type": "execute_result",
          "data": {
            "text/plain": [
              "   Unnamed: 0  reviewerName  overall  \\\n",
              "0           0           NaN      4.0   \n",
              "1           1          0mie      5.0   \n",
              "2           2           1K3      4.0   \n",
              "3           3           1m2      5.0   \n",
              "4           4  2&amp;1/2Men      5.0   \n",
              "\n",
              "                                          reviewText  reviewTime  day_diff  \\\n",
              "0                                         No issues.  2014-07-23       138   \n",
              "1  Purchased this for my device, it worked as adv...  2013-10-25       409   \n",
              "2  it works as expected. I should have sprung for...  2012-12-23       715   \n",
              "3  This think has worked out great.Had a diff. br...  2013-11-21       382   \n",
              "4  Bought it with Retail Packaging, arrived legit...  2013-07-13       513   \n",
              "\n",
              "   helpful_yes  helpful_no  total_vote  score_pos_neg_diff  \\\n",
              "0            0           0           0                   0   \n",
              "1            0           0           0                   0   \n",
              "2            0           0           0                   0   \n",
              "3            0           0           0                   0   \n",
              "4            0           0           0                   0   \n",
              "\n",
              "   score_average_rating  wilson_lower_bound  \n",
              "0                   0.0                 0.0  \n",
              "1                   0.0                 0.0  \n",
              "2                   0.0                 0.0  \n",
              "3                   0.0                 0.0  \n",
              "4                   0.0                 0.0  "
            ],
            "text/html": [
              "\n",
              "  <div id=\"df-120fa977-1170-4827-99e4-ccd0f8cff219\" class=\"colab-df-container\">\n",
              "    <div>\n",
              "<style scoped>\n",
              "    .dataframe tbody tr th:only-of-type {\n",
              "        vertical-align: middle;\n",
              "    }\n",
              "\n",
              "    .dataframe tbody tr th {\n",
              "        vertical-align: top;\n",
              "    }\n",
              "\n",
              "    .dataframe thead th {\n",
              "        text-align: right;\n",
              "    }\n",
              "</style>\n",
              "<table border=\"1\" class=\"dataframe\">\n",
              "  <thead>\n",
              "    <tr style=\"text-align: right;\">\n",
              "      <th></th>\n",
              "      <th>Unnamed: 0</th>\n",
              "      <th>reviewerName</th>\n",
              "      <th>overall</th>\n",
              "      <th>reviewText</th>\n",
              "      <th>reviewTime</th>\n",
              "      <th>day_diff</th>\n",
              "      <th>helpful_yes</th>\n",
              "      <th>helpful_no</th>\n",
              "      <th>total_vote</th>\n",
              "      <th>score_pos_neg_diff</th>\n",
              "      <th>score_average_rating</th>\n",
              "      <th>wilson_lower_bound</th>\n",
              "    </tr>\n",
              "  </thead>\n",
              "  <tbody>\n",
              "    <tr>\n",
              "      <th>0</th>\n",
              "      <td>0</td>\n",
              "      <td>NaN</td>\n",
              "      <td>4.0</td>\n",
              "      <td>No issues.</td>\n",
              "      <td>2014-07-23</td>\n",
              "      <td>138</td>\n",
              "      <td>0</td>\n",
              "      <td>0</td>\n",
              "      <td>0</td>\n",
              "      <td>0</td>\n",
              "      <td>0.0</td>\n",
              "      <td>0.0</td>\n",
              "    </tr>\n",
              "    <tr>\n",
              "      <th>1</th>\n",
              "      <td>1</td>\n",
              "      <td>0mie</td>\n",
              "      <td>5.0</td>\n",
              "      <td>Purchased this for my device, it worked as adv...</td>\n",
              "      <td>2013-10-25</td>\n",
              "      <td>409</td>\n",
              "      <td>0</td>\n",
              "      <td>0</td>\n",
              "      <td>0</td>\n",
              "      <td>0</td>\n",
              "      <td>0.0</td>\n",
              "      <td>0.0</td>\n",
              "    </tr>\n",
              "    <tr>\n",
              "      <th>2</th>\n",
              "      <td>2</td>\n",
              "      <td>1K3</td>\n",
              "      <td>4.0</td>\n",
              "      <td>it works as expected. I should have sprung for...</td>\n",
              "      <td>2012-12-23</td>\n",
              "      <td>715</td>\n",
              "      <td>0</td>\n",
              "      <td>0</td>\n",
              "      <td>0</td>\n",
              "      <td>0</td>\n",
              "      <td>0.0</td>\n",
              "      <td>0.0</td>\n",
              "    </tr>\n",
              "    <tr>\n",
              "      <th>3</th>\n",
              "      <td>3</td>\n",
              "      <td>1m2</td>\n",
              "      <td>5.0</td>\n",
              "      <td>This think has worked out great.Had a diff. br...</td>\n",
              "      <td>2013-11-21</td>\n",
              "      <td>382</td>\n",
              "      <td>0</td>\n",
              "      <td>0</td>\n",
              "      <td>0</td>\n",
              "      <td>0</td>\n",
              "      <td>0.0</td>\n",
              "      <td>0.0</td>\n",
              "    </tr>\n",
              "    <tr>\n",
              "      <th>4</th>\n",
              "      <td>4</td>\n",
              "      <td>2&amp;amp;1/2Men</td>\n",
              "      <td>5.0</td>\n",
              "      <td>Bought it with Retail Packaging, arrived legit...</td>\n",
              "      <td>2013-07-13</td>\n",
              "      <td>513</td>\n",
              "      <td>0</td>\n",
              "      <td>0</td>\n",
              "      <td>0</td>\n",
              "      <td>0</td>\n",
              "      <td>0.0</td>\n",
              "      <td>0.0</td>\n",
              "    </tr>\n",
              "  </tbody>\n",
              "</table>\n",
              "</div>\n",
              "    <div class=\"colab-df-buttons\">\n",
              "\n",
              "  <div class=\"colab-df-container\">\n",
              "    <button class=\"colab-df-convert\" onclick=\"convertToInteractive('df-120fa977-1170-4827-99e4-ccd0f8cff219')\"\n",
              "            title=\"Convert this dataframe to an interactive table.\"\n",
              "            style=\"display:none;\">\n",
              "\n",
              "  <svg xmlns=\"http://www.w3.org/2000/svg\" height=\"24px\" viewBox=\"0 -960 960 960\">\n",
              "    <path d=\"M120-120v-720h720v720H120Zm60-500h600v-160H180v160Zm220 220h160v-160H400v160Zm0 220h160v-160H400v160ZM180-400h160v-160H180v160Zm440 0h160v-160H620v160ZM180-180h160v-160H180v160Zm440 0h160v-160H620v160Z\"/>\n",
              "  </svg>\n",
              "    </button>\n",
              "\n",
              "  <style>\n",
              "    .colab-df-container {\n",
              "      display:flex;\n",
              "      gap: 12px;\n",
              "    }\n",
              "\n",
              "    .colab-df-convert {\n",
              "      background-color: #E8F0FE;\n",
              "      border: none;\n",
              "      border-radius: 50%;\n",
              "      cursor: pointer;\n",
              "      display: none;\n",
              "      fill: #1967D2;\n",
              "      height: 32px;\n",
              "      padding: 0 0 0 0;\n",
              "      width: 32px;\n",
              "    }\n",
              "\n",
              "    .colab-df-convert:hover {\n",
              "      background-color: #E2EBFA;\n",
              "      box-shadow: 0px 1px 2px rgba(60, 64, 67, 0.3), 0px 1px 3px 1px rgba(60, 64, 67, 0.15);\n",
              "      fill: #174EA6;\n",
              "    }\n",
              "\n",
              "    .colab-df-buttons div {\n",
              "      margin-bottom: 4px;\n",
              "    }\n",
              "\n",
              "    [theme=dark] .colab-df-convert {\n",
              "      background-color: #3B4455;\n",
              "      fill: #D2E3FC;\n",
              "    }\n",
              "\n",
              "    [theme=dark] .colab-df-convert:hover {\n",
              "      background-color: #434B5C;\n",
              "      box-shadow: 0px 1px 3px 1px rgba(0, 0, 0, 0.15);\n",
              "      filter: drop-shadow(0px 1px 2px rgba(0, 0, 0, 0.3));\n",
              "      fill: #FFFFFF;\n",
              "    }\n",
              "  </style>\n",
              "\n",
              "    <script>\n",
              "      const buttonEl =\n",
              "        document.querySelector('#df-120fa977-1170-4827-99e4-ccd0f8cff219 button.colab-df-convert');\n",
              "      buttonEl.style.display =\n",
              "        google.colab.kernel.accessAllowed ? 'block' : 'none';\n",
              "\n",
              "      async function convertToInteractive(key) {\n",
              "        const element = document.querySelector('#df-120fa977-1170-4827-99e4-ccd0f8cff219');\n",
              "        const dataTable =\n",
              "          await google.colab.kernel.invokeFunction('convertToInteractive',\n",
              "                                                    [key], {});\n",
              "        if (!dataTable) return;\n",
              "\n",
              "        const docLinkHtml = 'Like what you see? Visit the ' +\n",
              "          '<a target=\"_blank\" href=https://colab.research.google.com/notebooks/data_table.ipynb>data table notebook</a>'\n",
              "          + ' to learn more about interactive tables.';\n",
              "        element.innerHTML = '';\n",
              "        dataTable['output_type'] = 'display_data';\n",
              "        await google.colab.output.renderOutput(dataTable, element);\n",
              "        const docLink = document.createElement('div');\n",
              "        docLink.innerHTML = docLinkHtml;\n",
              "        element.appendChild(docLink);\n",
              "      }\n",
              "    </script>\n",
              "  </div>\n",
              "\n",
              "\n",
              "<div id=\"df-88390c84-c535-4945-83cb-ba23d32eb215\">\n",
              "  <button class=\"colab-df-quickchart\" onclick=\"quickchart('df-88390c84-c535-4945-83cb-ba23d32eb215')\"\n",
              "            title=\"Suggest charts\"\n",
              "            style=\"display:none;\">\n",
              "\n",
              "<svg xmlns=\"http://www.w3.org/2000/svg\" height=\"24px\"viewBox=\"0 0 24 24\"\n",
              "     width=\"24px\">\n",
              "    <g>\n",
              "        <path d=\"M19 3H5c-1.1 0-2 .9-2 2v14c0 1.1.9 2 2 2h14c1.1 0 2-.9 2-2V5c0-1.1-.9-2-2-2zM9 17H7v-7h2v7zm4 0h-2V7h2v10zm4 0h-2v-4h2v4z\"/>\n",
              "    </g>\n",
              "</svg>\n",
              "  </button>\n",
              "\n",
              "<style>\n",
              "  .colab-df-quickchart {\n",
              "      --bg-color: #E8F0FE;\n",
              "      --fill-color: #1967D2;\n",
              "      --hover-bg-color: #E2EBFA;\n",
              "      --hover-fill-color: #174EA6;\n",
              "      --disabled-fill-color: #AAA;\n",
              "      --disabled-bg-color: #DDD;\n",
              "  }\n",
              "\n",
              "  [theme=dark] .colab-df-quickchart {\n",
              "      --bg-color: #3B4455;\n",
              "      --fill-color: #D2E3FC;\n",
              "      --hover-bg-color: #434B5C;\n",
              "      --hover-fill-color: #FFFFFF;\n",
              "      --disabled-bg-color: #3B4455;\n",
              "      --disabled-fill-color: #666;\n",
              "  }\n",
              "\n",
              "  .colab-df-quickchart {\n",
              "    background-color: var(--bg-color);\n",
              "    border: none;\n",
              "    border-radius: 50%;\n",
              "    cursor: pointer;\n",
              "    display: none;\n",
              "    fill: var(--fill-color);\n",
              "    height: 32px;\n",
              "    padding: 0;\n",
              "    width: 32px;\n",
              "  }\n",
              "\n",
              "  .colab-df-quickchart:hover {\n",
              "    background-color: var(--hover-bg-color);\n",
              "    box-shadow: 0 1px 2px rgba(60, 64, 67, 0.3), 0 1px 3px 1px rgba(60, 64, 67, 0.15);\n",
              "    fill: var(--button-hover-fill-color);\n",
              "  }\n",
              "\n",
              "  .colab-df-quickchart-complete:disabled,\n",
              "  .colab-df-quickchart-complete:disabled:hover {\n",
              "    background-color: var(--disabled-bg-color);\n",
              "    fill: var(--disabled-fill-color);\n",
              "    box-shadow: none;\n",
              "  }\n",
              "\n",
              "  .colab-df-spinner {\n",
              "    border: 2px solid var(--fill-color);\n",
              "    border-color: transparent;\n",
              "    border-bottom-color: var(--fill-color);\n",
              "    animation:\n",
              "      spin 1s steps(1) infinite;\n",
              "  }\n",
              "\n",
              "  @keyframes spin {\n",
              "    0% {\n",
              "      border-color: transparent;\n",
              "      border-bottom-color: var(--fill-color);\n",
              "      border-left-color: var(--fill-color);\n",
              "    }\n",
              "    20% {\n",
              "      border-color: transparent;\n",
              "      border-left-color: var(--fill-color);\n",
              "      border-top-color: var(--fill-color);\n",
              "    }\n",
              "    30% {\n",
              "      border-color: transparent;\n",
              "      border-left-color: var(--fill-color);\n",
              "      border-top-color: var(--fill-color);\n",
              "      border-right-color: var(--fill-color);\n",
              "    }\n",
              "    40% {\n",
              "      border-color: transparent;\n",
              "      border-right-color: var(--fill-color);\n",
              "      border-top-color: var(--fill-color);\n",
              "    }\n",
              "    60% {\n",
              "      border-color: transparent;\n",
              "      border-right-color: var(--fill-color);\n",
              "    }\n",
              "    80% {\n",
              "      border-color: transparent;\n",
              "      border-right-color: var(--fill-color);\n",
              "      border-bottom-color: var(--fill-color);\n",
              "    }\n",
              "    90% {\n",
              "      border-color: transparent;\n",
              "      border-bottom-color: var(--fill-color);\n",
              "    }\n",
              "  }\n",
              "</style>\n",
              "\n",
              "  <script>\n",
              "    async function quickchart(key) {\n",
              "      const quickchartButtonEl =\n",
              "        document.querySelector('#' + key + ' button');\n",
              "      quickchartButtonEl.disabled = true;  // To prevent multiple clicks.\n",
              "      quickchartButtonEl.classList.add('colab-df-spinner');\n",
              "      try {\n",
              "        const charts = await google.colab.kernel.invokeFunction(\n",
              "            'suggestCharts', [key], {});\n",
              "      } catch (error) {\n",
              "        console.error('Error during call to suggestCharts:', error);\n",
              "      }\n",
              "      quickchartButtonEl.classList.remove('colab-df-spinner');\n",
              "      quickchartButtonEl.classList.add('colab-df-quickchart-complete');\n",
              "    }\n",
              "    (() => {\n",
              "      let quickchartButtonEl =\n",
              "        document.querySelector('#df-88390c84-c535-4945-83cb-ba23d32eb215 button');\n",
              "      quickchartButtonEl.style.display =\n",
              "        google.colab.kernel.accessAllowed ? 'block' : 'none';\n",
              "    })();\n",
              "  </script>\n",
              "</div>\n",
              "\n",
              "    </div>\n",
              "  </div>\n"
            ],
            "application/vnd.google.colaboratory.intrinsic+json": {
              "type": "dataframe",
              "variable_name": "Data",
              "repr_error": "'str' object has no attribute 'empty'"
            }
          },
          "metadata": {},
          "execution_count": 64
        }
      ],
      "source": [
        "Data = pd.read_csv(\"amazon_reviews.csv\")\n",
        "Data.head()"
      ]
    },
    {
      "cell_type": "markdown",
      "metadata": {
        "id": "AiSIBeoVMLXn"
      },
      "source": [
        "# Data Preprocessing"
      ]
    },
    {
      "cell_type": "code",
      "execution_count": 65,
      "metadata": {
        "colab": {
          "base_uri": "https://localhost:8080/"
        },
        "id": "_uiQzNmHMLXo",
        "outputId": "8b84a35f-6d88-4e2f-ee90-5d4d628f022a"
      },
      "outputs": [
        {
          "output_type": "stream",
          "name": "stdout",
          "text": [
            "<class 'pandas.core.frame.DataFrame'>\n",
            "RangeIndex: 4915 entries, 0 to 4914\n",
            "Data columns (total 12 columns):\n",
            " #   Column                Non-Null Count  Dtype  \n",
            "---  ------                --------------  -----  \n",
            " 0   Unnamed: 0            4915 non-null   int64  \n",
            " 1   reviewerName          4914 non-null   object \n",
            " 2   overall               4915 non-null   float64\n",
            " 3   reviewText            4914 non-null   object \n",
            " 4   reviewTime            4915 non-null   object \n",
            " 5   day_diff              4915 non-null   int64  \n",
            " 6   helpful_yes           4915 non-null   int64  \n",
            " 7   helpful_no            4915 non-null   int64  \n",
            " 8   total_vote            4915 non-null   int64  \n",
            " 9   score_pos_neg_diff    4915 non-null   int64  \n",
            " 10  score_average_rating  4915 non-null   float64\n",
            " 11  wilson_lower_bound    4915 non-null   float64\n",
            "dtypes: float64(3), int64(6), object(3)\n",
            "memory usage: 460.9+ KB\n"
          ]
        }
      ],
      "source": [
        "Data.info()"
      ]
    },
    {
      "cell_type": "code",
      "execution_count": 66,
      "metadata": {
        "colab": {
          "base_uri": "https://localhost:8080/"
        },
        "id": "yHP1a4J3MLXo",
        "outputId": "0dc4d296-60ea-4d53-cf1c-9731f991fcd0"
      },
      "outputs": [
        {
          "output_type": "execute_result",
          "data": {
            "text/plain": [
              "Index(['Unnamed: 0', 'reviewerName', 'overall', 'reviewText', 'reviewTime',\n",
              "       'day_diff', 'helpful_yes', 'helpful_no', 'total_vote',\n",
              "       'score_pos_neg_diff', 'score_average_rating', 'wilson_lower_bound'],\n",
              "      dtype='object')"
            ]
          },
          "metadata": {},
          "execution_count": 66
        }
      ],
      "source": [
        "Data.columns"
      ]
    },
    {
      "cell_type": "code",
      "execution_count": 67,
      "metadata": {
        "colab": {
          "base_uri": "https://localhost:8080/"
        },
        "id": "6Dy_He7SMLXo",
        "outputId": "fafa310a-87bd-48a9-a296-c96678e99cc4"
      },
      "outputs": [
        {
          "output_type": "execute_result",
          "data": {
            "text/plain": [
              "Unnamed: 0              0\n",
              "reviewerName            1\n",
              "overall                 0\n",
              "reviewText              1\n",
              "reviewTime              0\n",
              "day_diff                0\n",
              "helpful_yes             0\n",
              "helpful_no              0\n",
              "total_vote              0\n",
              "score_pos_neg_diff      0\n",
              "score_average_rating    0\n",
              "wilson_lower_bound      0\n",
              "dtype: int64"
            ]
          },
          "metadata": {},
          "execution_count": 67
        }
      ],
      "source": [
        "Data.isnull().sum()"
      ]
    },
    {
      "cell_type": "code",
      "execution_count": 68,
      "metadata": {
        "colab": {
          "base_uri": "https://localhost:8080/"
        },
        "id": "Whb9KPe5MLXp",
        "outputId": "7dc48ba2-599c-47bc-f37a-21b08270fe95"
      },
      "outputs": [
        {
          "output_type": "execute_result",
          "data": {
            "text/plain": [
              "Unnamed: 0                                                       12076030\n",
              "reviewerName            0mie1K31m22&amp;1/2Men2Cents!2K1Toaster35-year...\n",
              "overall                                                           22539.0\n",
              "reviewText              Purchased this for my device, it worked as adv...\n",
              "reviewTime              2013-10-252012-12-232013-11-212013-07-132013-0...\n",
              "day_diff                                                          2148682\n",
              "helpful_yes                                                          6442\n",
              "helpful_no                                                           1033\n",
              "total_vote                                                           7475\n",
              "score_pos_neg_diff                                                   5409\n",
              "score_average_rating                                           370.259626\n",
              "wilson_lower_bound                                              98.352501\n",
              "dtype: object"
            ]
          },
          "metadata": {},
          "execution_count": 68
        }
      ],
      "source": [
        "Data.dropna().sum()"
      ]
    },
    {
      "cell_type": "code",
      "execution_count": 69,
      "metadata": {
        "colab": {
          "base_uri": "https://localhost:8080/",
          "height": 351
        },
        "id": "-b4giImoMLXp",
        "outputId": "af8d2edc-7a3a-49c4-ca1d-3743fdc35efc"
      },
      "outputs": [
        {
          "output_type": "execute_result",
          "data": {
            "text/plain": [
              "                       count         mean          std    min     25%     50%  \\\n",
              "Unnamed: 0            4915.0  2457.000000  1418.982617    0.0  1228.5  2457.0   \n",
              "overall               4915.0     4.587589     0.996845    1.0     5.0     5.0   \n",
              "day_diff              4915.0   437.367040   209.439871    1.0   281.0   431.0   \n",
              "helpful_yes           4915.0     1.311089    41.619161    0.0     0.0     0.0   \n",
              "helpful_no            4915.0     0.210376     4.023296    0.0     0.0     0.0   \n",
              "total_vote            4915.0     1.521465    44.123095    0.0     0.0     0.0   \n",
              "score_pos_neg_diff    4915.0     1.100712    39.367949 -130.0     0.0     0.0   \n",
              "score_average_rating  4915.0     0.075468     0.256062    0.0     0.0     0.0   \n",
              "wilson_lower_bound    4915.0     0.020053     0.077187    0.0     0.0     0.0   \n",
              "\n",
              "                         75%          max  \n",
              "Unnamed: 0            3685.5  4914.000000  \n",
              "overall                  5.0     5.000000  \n",
              "day_diff               601.0  1064.000000  \n",
              "helpful_yes              0.0  1952.000000  \n",
              "helpful_no               0.0   183.000000  \n",
              "total_vote               0.0  2020.000000  \n",
              "score_pos_neg_diff       0.0  1884.000000  \n",
              "score_average_rating     0.0     1.000000  \n",
              "wilson_lower_bound       0.0     0.957544  "
            ],
            "text/html": [
              "\n",
              "  <div id=\"df-9e0aacf5-bd5c-45dd-bf3e-9e126c9d65fd\" class=\"colab-df-container\">\n",
              "    <div>\n",
              "<style scoped>\n",
              "    .dataframe tbody tr th:only-of-type {\n",
              "        vertical-align: middle;\n",
              "    }\n",
              "\n",
              "    .dataframe tbody tr th {\n",
              "        vertical-align: top;\n",
              "    }\n",
              "\n",
              "    .dataframe thead th {\n",
              "        text-align: right;\n",
              "    }\n",
              "</style>\n",
              "<table border=\"1\" class=\"dataframe\">\n",
              "  <thead>\n",
              "    <tr style=\"text-align: right;\">\n",
              "      <th></th>\n",
              "      <th>count</th>\n",
              "      <th>mean</th>\n",
              "      <th>std</th>\n",
              "      <th>min</th>\n",
              "      <th>25%</th>\n",
              "      <th>50%</th>\n",
              "      <th>75%</th>\n",
              "      <th>max</th>\n",
              "    </tr>\n",
              "  </thead>\n",
              "  <tbody>\n",
              "    <tr>\n",
              "      <th>Unnamed: 0</th>\n",
              "      <td>4915.0</td>\n",
              "      <td>2457.000000</td>\n",
              "      <td>1418.982617</td>\n",
              "      <td>0.0</td>\n",
              "      <td>1228.5</td>\n",
              "      <td>2457.0</td>\n",
              "      <td>3685.5</td>\n",
              "      <td>4914.000000</td>\n",
              "    </tr>\n",
              "    <tr>\n",
              "      <th>overall</th>\n",
              "      <td>4915.0</td>\n",
              "      <td>4.587589</td>\n",
              "      <td>0.996845</td>\n",
              "      <td>1.0</td>\n",
              "      <td>5.0</td>\n",
              "      <td>5.0</td>\n",
              "      <td>5.0</td>\n",
              "      <td>5.000000</td>\n",
              "    </tr>\n",
              "    <tr>\n",
              "      <th>day_diff</th>\n",
              "      <td>4915.0</td>\n",
              "      <td>437.367040</td>\n",
              "      <td>209.439871</td>\n",
              "      <td>1.0</td>\n",
              "      <td>281.0</td>\n",
              "      <td>431.0</td>\n",
              "      <td>601.0</td>\n",
              "      <td>1064.000000</td>\n",
              "    </tr>\n",
              "    <tr>\n",
              "      <th>helpful_yes</th>\n",
              "      <td>4915.0</td>\n",
              "      <td>1.311089</td>\n",
              "      <td>41.619161</td>\n",
              "      <td>0.0</td>\n",
              "      <td>0.0</td>\n",
              "      <td>0.0</td>\n",
              "      <td>0.0</td>\n",
              "      <td>1952.000000</td>\n",
              "    </tr>\n",
              "    <tr>\n",
              "      <th>helpful_no</th>\n",
              "      <td>4915.0</td>\n",
              "      <td>0.210376</td>\n",
              "      <td>4.023296</td>\n",
              "      <td>0.0</td>\n",
              "      <td>0.0</td>\n",
              "      <td>0.0</td>\n",
              "      <td>0.0</td>\n",
              "      <td>183.000000</td>\n",
              "    </tr>\n",
              "    <tr>\n",
              "      <th>total_vote</th>\n",
              "      <td>4915.0</td>\n",
              "      <td>1.521465</td>\n",
              "      <td>44.123095</td>\n",
              "      <td>0.0</td>\n",
              "      <td>0.0</td>\n",
              "      <td>0.0</td>\n",
              "      <td>0.0</td>\n",
              "      <td>2020.000000</td>\n",
              "    </tr>\n",
              "    <tr>\n",
              "      <th>score_pos_neg_diff</th>\n",
              "      <td>4915.0</td>\n",
              "      <td>1.100712</td>\n",
              "      <td>39.367949</td>\n",
              "      <td>-130.0</td>\n",
              "      <td>0.0</td>\n",
              "      <td>0.0</td>\n",
              "      <td>0.0</td>\n",
              "      <td>1884.000000</td>\n",
              "    </tr>\n",
              "    <tr>\n",
              "      <th>score_average_rating</th>\n",
              "      <td>4915.0</td>\n",
              "      <td>0.075468</td>\n",
              "      <td>0.256062</td>\n",
              "      <td>0.0</td>\n",
              "      <td>0.0</td>\n",
              "      <td>0.0</td>\n",
              "      <td>0.0</td>\n",
              "      <td>1.000000</td>\n",
              "    </tr>\n",
              "    <tr>\n",
              "      <th>wilson_lower_bound</th>\n",
              "      <td>4915.0</td>\n",
              "      <td>0.020053</td>\n",
              "      <td>0.077187</td>\n",
              "      <td>0.0</td>\n",
              "      <td>0.0</td>\n",
              "      <td>0.0</td>\n",
              "      <td>0.0</td>\n",
              "      <td>0.957544</td>\n",
              "    </tr>\n",
              "  </tbody>\n",
              "</table>\n",
              "</div>\n",
              "    <div class=\"colab-df-buttons\">\n",
              "\n",
              "  <div class=\"colab-df-container\">\n",
              "    <button class=\"colab-df-convert\" onclick=\"convertToInteractive('df-9e0aacf5-bd5c-45dd-bf3e-9e126c9d65fd')\"\n",
              "            title=\"Convert this dataframe to an interactive table.\"\n",
              "            style=\"display:none;\">\n",
              "\n",
              "  <svg xmlns=\"http://www.w3.org/2000/svg\" height=\"24px\" viewBox=\"0 -960 960 960\">\n",
              "    <path d=\"M120-120v-720h720v720H120Zm60-500h600v-160H180v160Zm220 220h160v-160H400v160Zm0 220h160v-160H400v160ZM180-400h160v-160H180v160Zm440 0h160v-160H620v160ZM180-180h160v-160H180v160Zm440 0h160v-160H620v160Z\"/>\n",
              "  </svg>\n",
              "    </button>\n",
              "\n",
              "  <style>\n",
              "    .colab-df-container {\n",
              "      display:flex;\n",
              "      gap: 12px;\n",
              "    }\n",
              "\n",
              "    .colab-df-convert {\n",
              "      background-color: #E8F0FE;\n",
              "      border: none;\n",
              "      border-radius: 50%;\n",
              "      cursor: pointer;\n",
              "      display: none;\n",
              "      fill: #1967D2;\n",
              "      height: 32px;\n",
              "      padding: 0 0 0 0;\n",
              "      width: 32px;\n",
              "    }\n",
              "\n",
              "    .colab-df-convert:hover {\n",
              "      background-color: #E2EBFA;\n",
              "      box-shadow: 0px 1px 2px rgba(60, 64, 67, 0.3), 0px 1px 3px 1px rgba(60, 64, 67, 0.15);\n",
              "      fill: #174EA6;\n",
              "    }\n",
              "\n",
              "    .colab-df-buttons div {\n",
              "      margin-bottom: 4px;\n",
              "    }\n",
              "\n",
              "    [theme=dark] .colab-df-convert {\n",
              "      background-color: #3B4455;\n",
              "      fill: #D2E3FC;\n",
              "    }\n",
              "\n",
              "    [theme=dark] .colab-df-convert:hover {\n",
              "      background-color: #434B5C;\n",
              "      box-shadow: 0px 1px 3px 1px rgba(0, 0, 0, 0.15);\n",
              "      filter: drop-shadow(0px 1px 2px rgba(0, 0, 0, 0.3));\n",
              "      fill: #FFFFFF;\n",
              "    }\n",
              "  </style>\n",
              "\n",
              "    <script>\n",
              "      const buttonEl =\n",
              "        document.querySelector('#df-9e0aacf5-bd5c-45dd-bf3e-9e126c9d65fd button.colab-df-convert');\n",
              "      buttonEl.style.display =\n",
              "        google.colab.kernel.accessAllowed ? 'block' : 'none';\n",
              "\n",
              "      async function convertToInteractive(key) {\n",
              "        const element = document.querySelector('#df-9e0aacf5-bd5c-45dd-bf3e-9e126c9d65fd');\n",
              "        const dataTable =\n",
              "          await google.colab.kernel.invokeFunction('convertToInteractive',\n",
              "                                                    [key], {});\n",
              "        if (!dataTable) return;\n",
              "\n",
              "        const docLinkHtml = 'Like what you see? Visit the ' +\n",
              "          '<a target=\"_blank\" href=https://colab.research.google.com/notebooks/data_table.ipynb>data table notebook</a>'\n",
              "          + ' to learn more about interactive tables.';\n",
              "        element.innerHTML = '';\n",
              "        dataTable['output_type'] = 'display_data';\n",
              "        await google.colab.output.renderOutput(dataTable, element);\n",
              "        const docLink = document.createElement('div');\n",
              "        docLink.innerHTML = docLinkHtml;\n",
              "        element.appendChild(docLink);\n",
              "      }\n",
              "    </script>\n",
              "  </div>\n",
              "\n",
              "\n",
              "<div id=\"df-d32007ac-e448-4848-af8b-57081f2dcba5\">\n",
              "  <button class=\"colab-df-quickchart\" onclick=\"quickchart('df-d32007ac-e448-4848-af8b-57081f2dcba5')\"\n",
              "            title=\"Suggest charts\"\n",
              "            style=\"display:none;\">\n",
              "\n",
              "<svg xmlns=\"http://www.w3.org/2000/svg\" height=\"24px\"viewBox=\"0 0 24 24\"\n",
              "     width=\"24px\">\n",
              "    <g>\n",
              "        <path d=\"M19 3H5c-1.1 0-2 .9-2 2v14c0 1.1.9 2 2 2h14c1.1 0 2-.9 2-2V5c0-1.1-.9-2-2-2zM9 17H7v-7h2v7zm4 0h-2V7h2v10zm4 0h-2v-4h2v4z\"/>\n",
              "    </g>\n",
              "</svg>\n",
              "  </button>\n",
              "\n",
              "<style>\n",
              "  .colab-df-quickchart {\n",
              "      --bg-color: #E8F0FE;\n",
              "      --fill-color: #1967D2;\n",
              "      --hover-bg-color: #E2EBFA;\n",
              "      --hover-fill-color: #174EA6;\n",
              "      --disabled-fill-color: #AAA;\n",
              "      --disabled-bg-color: #DDD;\n",
              "  }\n",
              "\n",
              "  [theme=dark] .colab-df-quickchart {\n",
              "      --bg-color: #3B4455;\n",
              "      --fill-color: #D2E3FC;\n",
              "      --hover-bg-color: #434B5C;\n",
              "      --hover-fill-color: #FFFFFF;\n",
              "      --disabled-bg-color: #3B4455;\n",
              "      --disabled-fill-color: #666;\n",
              "  }\n",
              "\n",
              "  .colab-df-quickchart {\n",
              "    background-color: var(--bg-color);\n",
              "    border: none;\n",
              "    border-radius: 50%;\n",
              "    cursor: pointer;\n",
              "    display: none;\n",
              "    fill: var(--fill-color);\n",
              "    height: 32px;\n",
              "    padding: 0;\n",
              "    width: 32px;\n",
              "  }\n",
              "\n",
              "  .colab-df-quickchart:hover {\n",
              "    background-color: var(--hover-bg-color);\n",
              "    box-shadow: 0 1px 2px rgba(60, 64, 67, 0.3), 0 1px 3px 1px rgba(60, 64, 67, 0.15);\n",
              "    fill: var(--button-hover-fill-color);\n",
              "  }\n",
              "\n",
              "  .colab-df-quickchart-complete:disabled,\n",
              "  .colab-df-quickchart-complete:disabled:hover {\n",
              "    background-color: var(--disabled-bg-color);\n",
              "    fill: var(--disabled-fill-color);\n",
              "    box-shadow: none;\n",
              "  }\n",
              "\n",
              "  .colab-df-spinner {\n",
              "    border: 2px solid var(--fill-color);\n",
              "    border-color: transparent;\n",
              "    border-bottom-color: var(--fill-color);\n",
              "    animation:\n",
              "      spin 1s steps(1) infinite;\n",
              "  }\n",
              "\n",
              "  @keyframes spin {\n",
              "    0% {\n",
              "      border-color: transparent;\n",
              "      border-bottom-color: var(--fill-color);\n",
              "      border-left-color: var(--fill-color);\n",
              "    }\n",
              "    20% {\n",
              "      border-color: transparent;\n",
              "      border-left-color: var(--fill-color);\n",
              "      border-top-color: var(--fill-color);\n",
              "    }\n",
              "    30% {\n",
              "      border-color: transparent;\n",
              "      border-left-color: var(--fill-color);\n",
              "      border-top-color: var(--fill-color);\n",
              "      border-right-color: var(--fill-color);\n",
              "    }\n",
              "    40% {\n",
              "      border-color: transparent;\n",
              "      border-right-color: var(--fill-color);\n",
              "      border-top-color: var(--fill-color);\n",
              "    }\n",
              "    60% {\n",
              "      border-color: transparent;\n",
              "      border-right-color: var(--fill-color);\n",
              "    }\n",
              "    80% {\n",
              "      border-color: transparent;\n",
              "      border-right-color: var(--fill-color);\n",
              "      border-bottom-color: var(--fill-color);\n",
              "    }\n",
              "    90% {\n",
              "      border-color: transparent;\n",
              "      border-bottom-color: var(--fill-color);\n",
              "    }\n",
              "  }\n",
              "</style>\n",
              "\n",
              "  <script>\n",
              "    async function quickchart(key) {\n",
              "      const quickchartButtonEl =\n",
              "        document.querySelector('#' + key + ' button');\n",
              "      quickchartButtonEl.disabled = true;  // To prevent multiple clicks.\n",
              "      quickchartButtonEl.classList.add('colab-df-spinner');\n",
              "      try {\n",
              "        const charts = await google.colab.kernel.invokeFunction(\n",
              "            'suggestCharts', [key], {});\n",
              "      } catch (error) {\n",
              "        console.error('Error during call to suggestCharts:', error);\n",
              "      }\n",
              "      quickchartButtonEl.classList.remove('colab-df-spinner');\n",
              "      quickchartButtonEl.classList.add('colab-df-quickchart-complete');\n",
              "    }\n",
              "    (() => {\n",
              "      let quickchartButtonEl =\n",
              "        document.querySelector('#df-d32007ac-e448-4848-af8b-57081f2dcba5 button');\n",
              "      quickchartButtonEl.style.display =\n",
              "        google.colab.kernel.accessAllowed ? 'block' : 'none';\n",
              "    })();\n",
              "  </script>\n",
              "</div>\n",
              "\n",
              "    </div>\n",
              "  </div>\n"
            ],
            "application/vnd.google.colaboratory.intrinsic+json": {
              "type": "dataframe",
              "summary": "{\n  \"name\": \"Data\",\n  \"rows\": 9,\n  \"fields\": [\n    {\n      \"column\": \"count\",\n      \"properties\": {\n        \"dtype\": \"number\",\n        \"std\": 0.0,\n        \"min\": 4915.0,\n        \"max\": 4915.0,\n        \"num_unique_values\": 1,\n        \"samples\": [\n          4915.0\n        ],\n        \"semantic_type\": \"\",\n        \"description\": \"\"\n      }\n    },\n    {\n      \"column\": \"mean\",\n      \"properties\": {\n        \"dtype\": \"number\",\n        \"std\": 813.3004879759967,\n        \"min\": 0.020052932059445305,\n        \"max\": 2457.0,\n        \"num_unique_values\": 9,\n        \"samples\": [\n          0.07546821822485646\n        ],\n        \"semantic_type\": \"\",\n        \"description\": \"\"\n      }\n    },\n    {\n      \"column\": \"std\",\n      \"properties\": {\n        \"dtype\": \"number\",\n        \"std\": 463.5300105729421,\n        \"min\": 0.0771874411204749,\n        \"max\": 1418.9826167598624,\n        \"num_unique_values\": 9,\n        \"samples\": [\n          0.25606237802879933\n        ],\n        \"semantic_type\": \"\",\n        \"description\": \"\"\n      }\n    },\n    {\n      \"column\": \"min\",\n      \"properties\": {\n        \"dtype\": \"number\",\n        \"std\": 43.418825921994305,\n        \"min\": -130.0,\n        \"max\": 1.0,\n        \"num_unique_values\": 3,\n        \"samples\": [\n          0.0\n        ],\n        \"semantic_type\": \"\",\n        \"description\": \"\"\n      }\n    },\n    {\n      \"column\": \"25%\",\n      \"properties\": {\n        \"dtype\": \"number\",\n        \"std\": 408.24954922748464,\n        \"min\": 0.0,\n        \"max\": 1228.5,\n        \"num_unique_values\": 4,\n        \"samples\": [\n          5.0\n        ],\n        \"semantic_type\": \"\",\n        \"description\": \"\"\n      }\n    },\n    {\n      \"column\": \"50%\",\n      \"properties\": {\n        \"dtype\": \"number\",\n        \"std\": 813.3800020763836,\n        \"min\": 0.0,\n        \"max\": 2457.0,\n        \"num_unique_values\": 4,\n        \"samples\": [\n          5.0\n        ],\n        \"semantic_type\": \"\",\n        \"description\": \"\"\n      }\n    },\n    {\n      \"column\": \"75%\",\n      \"properties\": {\n        \"dtype\": \"number\",\n        \"std\": 1219.518655043866,\n        \"min\": 0.0,\n        \"max\": 3685.5,\n        \"num_unique_values\": 4,\n        \"samples\": [\n          5.0\n        ],\n        \"semantic_type\": \"\",\n        \"description\": \"\"\n      }\n    },\n    {\n      \"column\": \"max\",\n      \"properties\": {\n        \"dtype\": \"number\",\n        \"std\": 1608.151786961599,\n        \"min\": 0.9575439475520824,\n        \"max\": 4914.0,\n        \"num_unique_values\": 9,\n        \"samples\": [\n          1.0\n        ],\n        \"semantic_type\": \"\",\n        \"description\": \"\"\n      }\n    }\n  ]\n}"
            }
          },
          "metadata": {},
          "execution_count": 69
        }
      ],
      "source": [
        "Data.describe().T"
      ]
    },
    {
      "cell_type": "code",
      "execution_count": 70,
      "metadata": {
        "colab": {
          "base_uri": "https://localhost:8080/"
        },
        "id": "URlmFgGrMLXp",
        "outputId": "c0a3b93c-5440-4bb4-bdb6-1429e7a0725b"
      },
      "outputs": [
        {
          "output_type": "stream",
          "name": "stdout",
          "text": [
            "ItravelmostofthedaysinbustocollegeIalsotakemybikeifthecollegeisforonlyhalfaday\n"
          ]
        }
      ],
      "source": [
        "text = \"I travel most of the day's in bus to college, I also take my bike if the college is for only half a day\"\n",
        "text=re.sub('[^a-zA-Z]','',text)\n",
        "print(text)"
      ]
    },
    {
      "cell_type": "code",
      "execution_count": 71,
      "metadata": {
        "id": "rnU3dEM2MLXp"
      },
      "outputs": [],
      "source": [
        "tokens=nltk.word_tokenize(text)"
      ]
    },
    {
      "cell_type": "code",
      "execution_count": 72,
      "metadata": {
        "id": "8YRyLh8WMLXp"
      },
      "outputs": [],
      "source": [
        "#removing stopwords\n",
        "stop_words=set(stopwords.words('english'))\n",
        "filtered_tokens = [token for token in tokens if token.lower() not in stop_words]"
      ]
    },
    {
      "cell_type": "code",
      "execution_count": 73,
      "metadata": {
        "colab": {
          "base_uri": "https://localhost:8080/"
        },
        "id": "Sr4QXYamMLXp",
        "outputId": "18f61d67-39a3-447b-c539-514d7b15b22b"
      },
      "outputs": [
        {
          "output_type": "execute_result",
          "data": {
            "text/plain": [
              "Unnamed: 0              4915\n",
              "reviewerName            4914\n",
              "overall                 4915\n",
              "reviewText              4914\n",
              "reviewTime              4915\n",
              "day_diff                4915\n",
              "helpful_yes             4915\n",
              "helpful_no              4915\n",
              "total_vote              4915\n",
              "score_pos_neg_diff      4915\n",
              "score_average_rating    4915\n",
              "wilson_lower_bound      4915\n",
              "dtype: int64"
            ]
          },
          "metadata": {},
          "execution_count": 73
        }
      ],
      "source": [
        "Data.count()"
      ]
    },
    {
      "cell_type": "code",
      "execution_count": 74,
      "metadata": {
        "id": "NhBz4SNqMLXq"
      },
      "outputs": [],
      "source": [
        "#removing duplicates\n",
        "Data.drop_duplicates(inplace=True)"
      ]
    },
    {
      "cell_type": "code",
      "execution_count": 75,
      "metadata": {
        "id": "2WznVk0gMLXq"
      },
      "outputs": [],
      "source": [
        "#Fill missing values with Zero\n",
        "Data = Data.fillna(0)\n"
      ]
    },
    {
      "cell_type": "code",
      "execution_count": 76,
      "metadata": {
        "colab": {
          "base_uri": "https://localhost:8080/"
        },
        "id": "Xu_gonkyMLXq",
        "outputId": "104fc45f-bfd5-4ea4-acc1-e6b80fc65814"
      },
      "outputs": [
        {
          "output_type": "execute_result",
          "data": {
            "text/plain": [
              "Unnamed: 0              0\n",
              "reviewerName            0\n",
              "overall                 0\n",
              "reviewText              0\n",
              "reviewTime              0\n",
              "day_diff                0\n",
              "helpful_yes             0\n",
              "helpful_no              0\n",
              "total_vote              0\n",
              "score_pos_neg_diff      0\n",
              "score_average_rating    0\n",
              "wilson_lower_bound      0\n",
              "dtype: int64"
            ]
          },
          "metadata": {},
          "execution_count": 76
        }
      ],
      "source": [
        "Data.isnull().sum()"
      ]
    },
    {
      "cell_type": "markdown",
      "metadata": {
        "id": "kCg5-B2FMLXq"
      },
      "source": [
        "# EDA"
      ]
    },
    {
      "cell_type": "code",
      "execution_count": 77,
      "metadata": {
        "colab": {
          "base_uri": "https://localhost:8080/",
          "height": 521
        },
        "id": "OAHn5HE1MLXq",
        "outputId": "35548604-f3a8-4a42-f2c2-7a128611e96d"
      },
      "outputs": [
        {
          "output_type": "display_data",
          "data": {
            "text/plain": [
              "<Figure size 1000x800 with 9 Axes>"
            ],
            "image/png": "[encoded data removed]"
          },
          "metadata": {}
        }
      ],
      "source": [
        "#plot histograms for numeric variables\n",
        "Data.hist(figsize=(10,8))\n",
        "plt.tight_layout()\n",
        "plt.show()"
      ]
    },
    {
      "cell_type": "code",
      "execution_count": 78,
      "metadata": {
        "colab": {
          "base_uri": "https://localhost:8080/",
          "height": 472
        },
        "id": "JgSBxHuUMLXq",
        "outputId": "b5306b37-5841-454c-8cbc-30698eea9d16"
      },
      "outputs": [
        {
          "output_type": "display_data",
          "data": {
            "text/plain": [
              "<Figure size 640x480 with 1 Axes>"
            ],
            "image/png": "[encoded data removed]"
          },
          "metadata": {}
        }
      ],
      "source": [
        "# Plot the count of each category in a categorical variable\n",
        "sns.countplot(data=Data, x='overall')\n",
        "plt.title('Distribution of Ratings')\n",
        "plt.xlabel('Rating')\n",
        "plt.ylabel('Count')\n",
        "plt.show()"
      ]
    },
    {
      "cell_type": "code",
      "execution_count": 79,
      "metadata": {
        "colab": {
          "base_uri": "https://localhost:8080/",
          "height": 472
        },
        "id": "eab5UrgLMLXq",
        "outputId": "13802d93-4dbf-4b22-c263-8a7726ed92f1"
      },
      "outputs": [
        {
          "output_type": "display_data",
          "data": {
            "text/plain": [
              "<Figure size 640x480 with 1 Axes>"
            ],
            "image/png": "[encoded data removed]"
          },
          "metadata": {}
        }
      ],
      "source": [
        "# Explore relationships between categorical variables\n",
        "sns.boxplot(data=Data, x='overall', y='helpful_yes')\n",
        "plt.title('Rating vs. Number of Helpful Votes')\n",
        "plt.xlabel('Rating')\n",
        "plt.ylabel('Number of Helpful Votes')\n",
        "plt.show()"
      ]
    },
    {
      "cell_type": "markdown",
      "metadata": {
        "id": "FI4c_JwxMLXr"
      },
      "source": [
        "# Data Labeling"
      ]
    },
    {
      "cell_type": "code",
      "execution_count": 80,
      "metadata": {
        "colab": {
          "base_uri": "https://localhost:8080/"
        },
        "id": "f8ClQOa4MLXr",
        "outputId": "9409da41-1528-4026-ea5d-d5321eab8b64"
      },
      "outputs": [
        {
          "output_type": "stream",
          "name": "stdout",
          "text": [
            "   Unnamed: 0                                      reviewerName  overall  \\\n",
            "0           0                                                 0      4.0   \n",
            "1           1                                              0mie      5.0   \n",
            "2           2                                               1K3      4.0   \n",
            "3           3                                               1m2      5.0   \n",
            "4           4                                      2&amp;1/2Men      5.0   \n",
            "5           5                                           2Cents!      5.0   \n",
            "6           6                                        2K1Toaster      5.0   \n",
            "7           7  35-year Technology Consumer \"8-tracks to 802.11\"      5.0   \n",
            "8           8                                         4evryoung      5.0   \n",
            "9           9                                          53rdcard      5.0   \n",
            "\n",
            "                                          reviewText  reviewTime  day_diff  \\\n",
            "0                                         No issues.  2014-07-23       138   \n",
            "1  Purchased this for my device, it worked as adv...  2013-10-25       409   \n",
            "2  it works as expected. I should have sprung for...  2012-12-23       715   \n",
            "3  This think has worked out great.Had a diff. br...  2013-11-21       382   \n",
            "4  Bought it with Retail Packaging, arrived legit...  2013-07-13       513   \n",
            "5  It's mini storage.  It doesn't do anything els...  2013-04-29       588   \n",
            "6  I have it in my phone and it never skips a bea...  2013-10-19       415   \n",
            "7  It's hard to believe how affordable digital ha...  2014-10-07        62   \n",
            "8  Works in a HTC Rezound.  Was running short of ...  2014-03-24       259   \n",
            "9  in my galaxy s4, super fast card, and am total...  2013-11-10       393   \n",
            "\n",
            "   helpful_yes  helpful_no  total_vote  score_pos_neg_diff  \\\n",
            "0            0           0           0                   0   \n",
            "1            0           0           0                   0   \n",
            "2            0           0           0                   0   \n",
            "3            0           0           0                   0   \n",
            "4            0           0           0                   0   \n",
            "5            0           0           0                   0   \n",
            "6            0           0           0                   0   \n",
            "7            0           0           0                   0   \n",
            "8            1           0           1                   1   \n",
            "9            0           0           0                   0   \n",
            "\n",
            "   score_average_rating  wilson_lower_bound sentiment  \n",
            "0                   0.0            0.000000  negative  \n",
            "1                   0.0            0.000000  negative  \n",
            "2                   0.0            0.000000  negative  \n",
            "3                   0.0            0.000000  positive  \n",
            "4                   0.0            0.000000  positive  \n",
            "5                   0.0            0.000000   neutral  \n",
            "6                   0.0            0.000000  positive  \n",
            "7                   0.0            0.000000  positive  \n",
            "8                   1.0            0.206549  negative  \n",
            "9                   0.0            0.000000  positive  \n"
          ]
        }
      ],
      "source": [
        "sentiment = SentimentIntensityAnalyzer()\n",
        "\n",
        "sia = SentimentIntensityAnalyzer()\n",
        "\n",
        "# Function to assign sentiment labels using VADER\n",
        "def assign_sentiment(review):\n",
        "    sentiment_scores = sia.polarity_scores(str(review))  # Convert to string\n",
        "    if sentiment_scores['compound'] >= 0.05:\n",
        "        return 'positive'\n",
        "    elif sentiment_scores['compound'] <= -0.05:\n",
        "        return 'negative'\n",
        "    else:\n",
        "        return 'neutral'\n",
        "\n",
        "# Apply the function to assign sentiment labels\n",
        "Data['sentiment'] = Data['reviewText'].apply(assign_sentiment)\n",
        "\n",
        "# Print positive and negative reviews\n",
        "print(Data.head(10))"
      ]
    },
    {
      "cell_type": "markdown",
      "metadata": {
        "id": "lcOQN8sYMLXr"
      },
      "source": [
        "# Train-Test Split"
      ]
    },
    {
      "cell_type": "code",
      "execution_count": 81,
      "metadata": {
        "colab": {
          "base_uri": "https://localhost:8080/"
        },
        "id": "_PCT69yxMLXr",
        "outputId": "a935d298-301c-47b2-ac84-f9522a516fff"
      },
      "outputs": [
        {
          "output_type": "stream",
          "name": "stdout",
          "text": [
            "(3686, 2)\n",
            "(1229, 2)\n",
            "(3686,)\n",
            "(1229,)\n"
          ]
        }
      ],
      "source": [
        "# Split the data into features and labels\n",
        "X = Data[[\"reviewText\", \"reviewTime\"]]\n",
        "y = Data[\"sentiment\"]\n",
        "\n",
        "# Split the data into a training set and a test set\n",
        "X_train, X_test, y_train, y_test = train_test_split(X, y, test_size=0.25, random_state=42)\n",
        "\n",
        "# Print the shapes of the training and test sets\n",
        "print(X_train.shape)\n",
        "print(X_test.shape)\n",
        "print(y_train.shape)\n",
        "print(y_test.shape)"
      ]
    },
    {
      "cell_type": "markdown",
      "metadata": {
        "id": "qr9WiFm_MLXr"
      },
      "source": [
        "# Naive Bayes Training Model and Model Evaluation"
      ]
    },
    {
      "cell_type": "code",
      "execution_count": 82,
      "metadata": {
        "id": "1SRbSTl7MLXr"
      },
      "outputs": [],
      "source": [
        "import pandas as pd\n",
        "from sklearn.feature_extraction.text import TfidfVectorizer\n",
        "from sklearn.naive_bayes import MultinomialNB\n",
        "from sklearn.metrics import  accuracy_score, precision_score, recall_score, f1_score"
      ]
    },
    {
      "cell_type": "code",
      "execution_count": 83,
      "metadata": {
        "id": "n0TT9bJJMLXr"
      },
      "outputs": [],
      "source": [
        "#split the data into a traoining and test data\n",
        "X_train, X_test, y_train, y_test = train_test_split(Data[\"reviewText\"], Data[\"sentiment\"], test_size=0.25, random_state=42)"
      ]
    },
    {
      "cell_type": "code",
      "execution_count": 84,
      "metadata": {
        "id": "t7wRrtNfMLXr"
      },
      "outputs": [],
      "source": [
        "X_train = [str(doc) for doc in X_train]\n",
        "X_test = [str(doc) for doc in X_test]\n",
        "\n",
        "vectorizer = TfidfVectorizer(stop_words=\"english\")\n",
        "\n",
        "# Transform the review text into a TF-IDF matrix\n",
        "features_train = vectorizer.fit_transform(X_train)\n",
        "features_test = vectorizer.transform(X_test)\n"
      ]
    },
    {
      "cell_type": "code",
      "execution_count": 85,
      "metadata": {
        "colab": {
          "base_uri": "https://localhost:8080/"
        },
        "id": "StolJ3aGMLXr",
        "outputId": "128c4593-70aa-410c-996b-1a7fca30cfa5"
      },
      "outputs": [
        {
          "output_type": "stream",
          "name": "stdout",
          "text": [
            "Accuracy: 0.7379983726606998\n",
            "F1-score: 0.849250936329588\n",
            "Precision: 1.0\n",
            "Recall: 0.7379983726606998\n"
          ]
        }
      ],
      "source": [
        "# Create a Naive Bayes classifier object\n",
        "classifier = MultinomialNB()\n",
        "\n",
        "# Train the classifier on the training set\n",
        "classifier.fit(features_train, y_train)\n",
        "\n",
        "# Predict the sentiment of the test set\n",
        "predictions = classifier.predict(features_test)\n",
        "\n",
        "# Evaluate the classifier's performance on the test set\n",
        "accuracy = accuracy_score(predictions, y_test)\n",
        "f1 = f1_score(predictions, y_test, average=\"weighted\")\n",
        "\n",
        "\n",
        "precision = precision_score(predictions, y_test, average=\"weighted\")\n",
        "recall = recall_score(predictions, y_test, average=\"weighted\")\n",
        "\n",
        "print(\"Accuracy:\", accuracy)\n",
        "print(\"F1-score:\", f1)\n",
        "print(\"Precision:\", precision)\n",
        "print(\"Recall:\", recall)"
      ]
    },
    {
      "cell_type": "markdown",
      "metadata": {
        "id": "jU4hBYEnMLXs"
      },
      "source": [
        "# Sentiment Analysis"
      ]
    },
    {
      "cell_type": "code",
      "execution_count": 86,
      "metadata": {
        "colab": {
          "base_uri": "https://localhost:8080/"
        },
        "id": "I3PGugQoMLXs",
        "outputId": "6b53e011-300b-4120-b1fe-ef35b8873a96"
      },
      "outputs": [
        {
          "output_type": "stream",
          "name": "stdout",
          "text": [
            "Predicted sentiment: positive\n"
          ]
        }
      ],
      "source": [
        "# Define a function to perform sentiment analysis on new reviews\n",
        "def analyze_sentiment(review):\n",
        "    # Transform the review text using the same vectorizer\n",
        "    review_features = vectorizer.transform([review])\n",
        "    # Predict the sentiment label using the trained classifier\n",
        "    sentiment = classifier.predict(review_features)[0]\n",
        "    return sentiment\n",
        "\n",
        "# Example usage:\n",
        "new_review = \"This product is amazing! I love it!\"\n",
        "predicted_sentiment = analyze_sentiment(new_review)\n",
        "print(\"Predicted sentiment:\", predicted_sentiment)\n"
      ]
    }
  ],
  "metadata": {
    "kernelspec": {
      "display_name": "base",
      "language": "python",
      "name": "python3"
    },
    "language_info": {
      "codemirror_mode": {
        "name": "ipython",
        "version": 3
      },
      "file_extension": ".py",
      "mimetype": "text/x-python",
      "name": "python",
      "nbconvert_exporter": "python",
      "pygments_lexer": "ipython3",
      "version": "3.11.7"
    },
    "colab": {
      "provenance": []
    }
  },
  "nbformat": 4,
  "nbformat_minor": 0
}